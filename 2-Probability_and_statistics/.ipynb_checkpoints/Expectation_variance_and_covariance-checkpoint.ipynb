{
 "cells": [
  {
   "cell_type": "code",
   "execution_count": 1,
   "metadata": {},
   "outputs": [
    {
     "name": "stdout",
     "output_type": "stream",
     "text": [
      "Populating the interactive namespace from numpy and matplotlib\n"
     ]
    }
   ],
   "source": [
    "%pylab inline\n",
    "import numpy as np"
   ]
  },
  {
   "cell_type": "markdown",
   "metadata": {},
   "source": [
    "### Defining a joint distribution over two discrete random variables\n",
    "The probabilities are organized in a 2D array, where the columns correspond to values of $x$ and the rows correspond to values of $y$"
   ]
  },
  {
   "cell_type": "code",
   "execution_count": 2,
   "metadata": {},
   "outputs": [
    {
     "data": {
      "text/plain": [
       "array([[ 2.,  2.,  4.],\n",
       "       [ 1.,  1.,  2.]])"
      ]
     },
     "execution_count": 2,
     "metadata": {},
     "output_type": "execute_result"
    }
   ],
   "source": [
    "#### We start with positive weights that don't sum to 1\n",
    "P=np.array([[2.,2,4],[1,1,2]])\n",
    "P2=copy(P)\n",
    "P"
   ]
  },
  {
   "cell_type": "code",
   "execution_count": 3,
   "metadata": {},
   "outputs": [
    {
     "ename": "SyntaxError",
     "evalue": "Missing parentheses in call to 'print' (<ipython-input-3-a3e8a63d88b9>, line 9)",
     "output_type": "error",
     "traceback": [
      "\u001b[1;36m  File \u001b[1;32m\"<ipython-input-3-a3e8a63d88b9>\"\u001b[1;36m, line \u001b[1;32m9\u001b[0m\n\u001b[1;33m    print 'the sum is ',s\u001b[0m\n\u001b[1;37m                      ^\u001b[0m\n\u001b[1;31mSyntaxError\u001b[0m\u001b[1;31m:\u001b[0m Missing parentheses in call to 'print'\n"
     ]
    }
   ],
   "source": [
    "# We then normalize the weights\n",
    "# using Pure Python\n",
    "\n",
    "#Compute the sum\n",
    "s=0\n",
    "for i in range(shape(P)[0]):\n",
    "    for j in range(shape(P)[1]):\n",
    "        s+=P[i,j]\n",
    "print 'the sum is ',s\n",
    "#divide by the sum\n",
    "for i in range(shape(P)[0]):\n",
    "    for j in range(shape(P)[1]):\n",
    "        P[i,j] /= s\n",
    "P"
   ]
  },
  {
   "cell_type": "code",
   "execution_count": null,
   "metadata": {},
   "outputs": [],
   "source": [
    "# Using Numpy we can write it in a much shorter way\n",
    "P2/=sum(P2)\n",
    "P2"
   ]
  },
  {
   "cell_type": "code",
   "execution_count": null,
   "metadata": {
    "collapsed": true
   },
   "outputs": [],
   "source": [
    "# The values that the random variables x and y take\n",
    "x=np.array([1,2,6])\n",
    "y=np.array([-1,1])"
   ]
  },
  {
   "cell_type": "code",
   "execution_count": null,
   "metadata": {},
   "outputs": [],
   "source": [
    "shape(P)"
   ]
  },
  {
   "cell_type": "markdown",
   "metadata": {},
   "source": [
    "#### Computing Marginals\n",
    "The marginal distributions are the probabilities associated with each random variable alone."
   ]
  },
  {
   "cell_type": "code",
   "execution_count": null,
   "metadata": {},
   "outputs": [],
   "source": [
    "# The pure python way\n",
    "Px=[0.]*shape(P)[1]\n",
    "Py=[0.]*shape(P)[0]\n",
    "\n",
    "for i in range(len(Px)):\n",
    "    for j in range(len(Py)):\n",
    "        Px[i]+=P[j,i]\n",
    "        Py[j]+=P[j,i]\n",
    "Px,Py"
   ]
  },
  {
   "cell_type": "code",
   "execution_count": null,
   "metadata": {},
   "outputs": [],
   "source": [
    "#the numpy way:\n",
    "Px=sum(P,axis=0)\n",
    "Py=sum(P,axis=1)\n",
    "Px,Py"
   ]
  },
  {
   "cell_type": "markdown",
   "metadata": {},
   "source": [
    "### Check whether $x$ and $y$ are independent\n",
    "\n",
    "If they are independent then the outer product and P should be equal."
   ]
  },
  {
   "cell_type": "code",
   "execution_count": null,
   "metadata": {
    "collapsed": true
   },
   "outputs": [],
   "source": [
    "# The pure python way\n",
    "for i in range(len(Px)):\n",
    "    for j in range(len(Py)):\n",
    "        if Px[i]*Py[j] != P[j,i]:\n",
    "            print \"Px[%d]*Py[%d] != P[%d,%d] ::::: %5.3f*%5.3f = %5.3f != %5.3f\"%\\\n",
    "                    (i,j,j,i,Px[i],Py[j],Px[i]*Py[j],P[j,i])\n"
   ]
  },
  {
   "cell_type": "code",
   "execution_count": null,
   "metadata": {},
   "outputs": [],
   "source": [
    "# The numpy way\n",
    "np.outer(Px,Py).T - P"
   ]
  },
  {
   "cell_type": "markdown",
   "metadata": {},
   "source": [
    "### Computing the covariance"
   ]
  },
  {
   "cell_type": "markdown",
   "metadata": {},
   "source": [
    "### Calculating the mean and standard deviation\n",
    "To calculate the mean of $X$ and $Y$ under this distribtion in python, we need to iterate through the values of $x$ and $y$ and plug them into the formuls $E[X] = \\sum_x P(X=x)x$. Similarly for standard deviation.\n"
   ]
  },
  {
   "cell_type": "code",
   "execution_count": null,
   "metadata": {},
   "outputs": [],
   "source": [
    "from math import sqrt\n",
    "#The python way\n",
    "Ex = 0\n",
    "for i in range(3):\n",
    "    Ex+=Px[i]*x[i]\n",
    "Ey = 0\n",
    "for i in range(2):\n",
    "    Ey+=Py[i]*y[i]\n",
    "\n",
    "varx = 0\n",
    "for i in range(3):\n",
    "    varx+=Px[i]*(x[i] - Ex)**2\n",
    "stdx = sqrt(varx)\n",
    "\n",
    "vary = 0\n",
    "for i in range(2):\n",
    "    vary+=Py[i]*(y[i] - Ey)**2\n",
    "stdy = sqrt(vary)\n",
    "\n",
    "Ex,Ey,stdx,stdy"
   ]
  },
  {
   "cell_type": "code",
   "execution_count": null,
   "metadata": {},
   "outputs": [],
   "source": [
    "# In numpy you can use np.dot(A,B) which calculates the pairwise product of elements in A and B\n",
    "# and sums them up\n",
    "Ex=np.dot(Px,x)\n",
    "Ey=np.dot(Py,y)\n",
    "Ex2=np.dot(Px,x**2)\n",
    "Ey2=np.dot(Py,y**2)\n",
    "stdx=sqrt(Ex2-Ex**2)\n",
    "stdy=sqrt(Ey2-Ey**2)\n",
    "print 'Ex=%f,Ey=%f,stdx=%f,stdy=%f'%(Ex,Ey,stdx,stdy)"
   ]
  },
  {
   "cell_type": "markdown",
   "metadata": {},
   "source": [
    "#### Subtract the means"
   ]
  },
  {
   "cell_type": "code",
   "execution_count": null,
   "metadata": {},
   "outputs": [],
   "source": [
    "nx=x-Ex\n",
    "nx"
   ]
  },
  {
   "cell_type": "code",
   "execution_count": null,
   "metadata": {},
   "outputs": [],
   "source": [
    "ny=y-Ey\n",
    "ny"
   ]
  },
  {
   "cell_type": "markdown",
   "metadata": {},
   "source": [
    "### Calculate the covariance\n"
   ]
  },
  {
   "cell_type": "code",
   "execution_count": null,
   "metadata": {},
   "outputs": [],
   "source": [
    "# in python\n",
    "s=0\n",
    "for i in range(len(x)):\n",
    "    for j in range(len(y)):\n",
    "        s+=P[j,i]*nx[i]*ny[j]\n",
    "print 'the covariance is',s #our expected values are now 0 so nothing to subtract"
   ]
  },
  {
   "cell_type": "code",
   "execution_count": null,
   "metadata": {},
   "outputs": [],
   "source": [
    "# numpy\n",
    "\n",
    "print 'the covariance is', np.dot(P.flatten(), np.outer(ny,nx).flatten())"
   ]
  },
  {
   "cell_type": "markdown",
   "metadata": {},
   "source": [
    "### and the correlation\n"
   ]
  },
  {
   "cell_type": "code",
   "execution_count": null,
   "metadata": {},
   "outputs": [],
   "source": [
    "s/(stdx*stdy),stdx,stdy"
   ]
  },
  {
   "cell_type": "code",
   "execution_count": null,
   "metadata": {
    "collapsed": true
   },
   "outputs": [],
   "source": [
    "# %load compStat.py\n",
    "import numpy as np\n",
    "from math import sqrt\n",
    "\n",
    "def ComputeStatistics(P,x,y):\n",
    "    P/=np.sum(P) # normalize the disttribution\n",
    "    Px=np.sum(P,axis=0) # compute marginals\n",
    "    Py=np.sum(P,axis=1)\n",
    "    Ex=np.dot(Px,x)\n",
    "    Ey=np.dot(Py,y)\n",
    "    Ex2=np.dot(Px,x**2)\n",
    "    Ey2=np.dot(Py,y**2)\n",
    "    stdx=sqrt(Ex2-Ex**2)\n",
    "    stdy=sqrt(Ey2-Ey**2)\n",
    "    \n",
    "    nx=x-Ex\n",
    "    ny=y-Ey\n",
    "    \n",
    "    cov=np.dot(P.flatten(), np.outer(ny,nx).flatten())\n",
    "    corr=cov/(stdx*stdy)\n",
    "    return {\n",
    "        'P':P,\n",
    "        'x':x,\n",
    "        'y':y,\n",
    "        'Px':Px,\n",
    "        'Py':Py,\n",
    "        'Ex':Ex,\n",
    "        'Ey':Ey,\n",
    "        'stdx':stdx,\n",
    "        'stdy':stdy,\n",
    "        'cov':cov,\n",
    "        'corr':corr\n",
    "    }\n"
   ]
  },
  {
   "cell_type": "code",
   "execution_count": null,
   "metadata": {},
   "outputs": [],
   "source": [
    "from compStat import ComputeStatistics\n",
    "\n",
    "x=np.arange(1.,2.,0.2)\n",
    "y=np.arange(0.,1.,0.2)\n",
    "P=np.eye(5)\n",
    "print x,y\n",
    "P"
   ]
  },
  {
   "cell_type": "code",
   "execution_count": null,
   "metadata": {},
   "outputs": [],
   "source": [
    "A=ComputeStatistics(P,x,y)\n",
    "print A['cov'],A['corr']"
   ]
  },
  {
   "cell_type": "markdown",
   "metadata": {},
   "source": [
    "## Empirical statistics\n",
    "\n",
    "If we now draw samples from these distributions, we can see that the emperical statistics, the population mean, population standard deviation and population covariance approach the original values of mean, standard deviation and covariance."
   ]
  },
  {
   "cell_type": "code",
   "execution_count": null,
   "metadata": {},
   "outputs": [],
   "source": [
    "P=np.array([[1.,1,1],[1,1,2],[2,1,1]])\n",
    "x=np.array([-1,0,1]); y=np.array([-1,0,1])\n",
    "A=ComputeStatistics(P,x,y)\n",
    "Px=A['Px']\n",
    "Px,A['Ex'],A['cov']"
   ]
  },
  {
   "cell_type": "code",
   "execution_count": null,
   "metadata": {},
   "outputs": [],
   "source": [
    "Px"
   ]
  },
  {
   "cell_type": "code",
   "execution_count": null,
   "metadata": {
    "scrolled": true
   },
   "outputs": [],
   "source": [
    "np.random.choice(x,100,True, Px)"
   ]
  },
  {
   "cell_type": "code",
   "execution_count": null,
   "metadata": {},
   "outputs": [],
   "source": [
    "numsamples = [2,10,100,100000]\n",
    "\n",
    "for num in numsamples: \n",
    "    print \"Sample mean after drawing {num} samples = {s}\".format(\n",
    "        num = num,\n",
    "        s = np.mean(np.random.choice(x, num, True, Px))\n",
    "    )"
   ]
  },
  {
   "cell_type": "code",
   "execution_count": null,
   "metadata": {},
   "outputs": [],
   "source": [
    "#To calculate the covariance, we will generate samples (x,y) form the joint distribution P\n",
    "#possible samples\n",
    "xy =  np.array([(i,j) for i in x for j in y])\n",
    "I=np.random.choice(xy.shape[0], num, True, P.T.flatten())\n",
    "xy[I][:20]"
   ]
  },
  {
   "cell_type": "code",
   "execution_count": null,
   "metadata": {},
   "outputs": [],
   "source": [
    "for num in numsamples:\n",
    "    samples = np.random.choice(xy.shape[0], num, True, P.T.flatten()), #choose rows\n",
    "    print \"Population covariance after drawing {num} samples = {s}\".format(\n",
    "        num = num,\n",
    "        s = np.cov(\n",
    "            xy[samples][:,0],\n",
    "            xy[samples][:,1]\n",
    "        )[0,1]\n",
    "    )"
   ]
  },
  {
   "cell_type": "code",
   "execution_count": null,
   "metadata": {
    "collapsed": true
   },
   "outputs": [],
   "source": [
    "\n",
    "\n",
    "\n",
    "\n",
    "\n",
    "\n"
   ]
  }
 ],
 "metadata": {
  "kernelspec": {
   "display_name": "Python 3",
   "language": "python",
   "name": "python3"
  },
  "language_info": {
   "codemirror_mode": {
    "name": "ipython",
    "version": 3
   },
   "file_extension": ".py",
   "mimetype": "text/x-python",
   "name": "python",
   "nbconvert_exporter": "python",
   "pygments_lexer": "ipython3",
   "version": "3.6.1"
  },
  "toc": {
   "colors": {
    "hover_highlight": "#DAA520",
    "navigate_num": "#000000",
    "navigate_text": "#333333",
    "running_highlight": "#FF0000",
    "selected_highlight": "#FFD700",
    "sidebar_border": "#EEEEEE",
    "wrapper_background": "#FFFFFF"
   },
   "moveMenuLeft": true,
   "nav_menu": {
    "height": "142px",
    "width": "252px"
   },
   "navigate_menu": true,
   "number_sections": true,
   "sideBar": true,
   "threshold": 4,
   "toc_cell": false,
   "toc_section_display": "block",
   "toc_window_display": false,
   "widenNotebook": false
  }
 },
 "nbformat": 4,
 "nbformat_minor": 2
}
