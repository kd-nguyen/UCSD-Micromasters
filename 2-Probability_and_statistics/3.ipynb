{
 "cells": [
  {
   "cell_type": "code",
   "execution_count": 1,
   "metadata": {
    "collapsed": true
   },
   "outputs": [],
   "source": [
    "from itertools import combinations"
   ]
  },
  {
   "cell_type": "code",
   "execution_count": 3,
   "metadata": {
    "scrolled": true
   },
   "outputs": [
    {
     "data": {
      "text/plain": [
       "150"
      ]
     },
     "execution_count": 3,
     "metadata": {},
     "output_type": "execute_result"
    }
   ],
   "source": [
    "len(list(combinations(range(6), 2))) * len(list(combinations(range(5), 2)))"
   ]
  },
  {
   "cell_type": "code",
   "execution_count": 4,
   "metadata": {
    "collapsed": true
   },
   "outputs": [],
   "source": [
    "from math import factorial"
   ]
  },
  {
   "cell_type": "code",
   "execution_count": 5,
   "metadata": {},
   "outputs": [
    {
     "data": {
      "text/plain": [
       "55440.0"
      ]
     },
     "execution_count": 5,
     "metadata": {},
     "output_type": "execute_result"
    }
   ],
   "source": [
    "factorial(11) / (factorial(5) * factorial(3))"
   ]
  },
  {
   "cell_type": "code",
   "execution_count": 8,
   "metadata": {},
   "outputs": [
    {
     "data": {
      "text/plain": [
       "10080.0"
      ]
     },
     "execution_count": 8,
     "metadata": {},
     "output_type": "execute_result"
    }
   ],
   "source": [
    "factorial(8)/4"
   ]
  },
  {
   "cell_type": "code",
   "execution_count": 9,
   "metadata": {
    "collapsed": true
   },
   "outputs": [],
   "source": [
    "def comb(x, y):\n",
    "    return factorial(x) / (factorial(y) * factorial(x-y))"
   ]
  },
  {
   "cell_type": "code",
   "execution_count": 16,
   "metadata": {
    "collapsed": true
   },
   "outputs": [],
   "source": [
    "import operator"
   ]
  },
  {
   "cell_type": "code",
   "execution_count": 19,
   "metadata": {
    "collapsed": true
   },
   "outputs": [],
   "source": [
    "from functools import reduce"
   ]
  },
  {
   "cell_type": "code",
   "execution_count": 22,
   "metadata": {
    "collapsed": true
   },
   "outputs": [],
   "source": [
    "?reduce"
   ]
  },
  {
   "cell_type": "code",
   "execution_count": 23,
   "metadata": {
    "scrolled": true
   },
   "outputs": [
    {
     "data": {
      "text/plain": [
       "60"
      ]
     },
     "execution_count": 23,
     "metadata": {},
     "output_type": "execute_result"
    }
   ],
   "source": [
    "reduce(operator.mul, (x for x in [3, 4, 5]), 1)"
   ]
  },
  {
   "cell_type": "code",
   "execution_count": 27,
   "metadata": {
    "collapsed": true
   },
   "outputs": [],
   "source": [
    "def comb_mul(x, *args):\n",
    "    return factorial(x) / reduce(operator.mul, (factorial(y) for y in args), 1)"
   ]
  },
  {
   "cell_type": "code",
   "execution_count": 29,
   "metadata": {},
   "outputs": [
    {
     "data": {
      "text/plain": [
       "60.0"
      ]
     },
     "execution_count": 29,
     "metadata": {},
     "output_type": "execute_result"
    }
   ],
   "source": [
    "factorial(10) / (factorial(3) * factorial(2) * factorial(7))"
   ]
  },
  {
   "cell_type": "code",
   "execution_count": 25,
   "metadata": {},
   "outputs": [
    {
     "data": {
      "text/plain": [
       "10.0"
      ]
     },
     "execution_count": 25,
     "metadata": {},
     "output_type": "execute_result"
    }
   ],
   "source": [
    "comb_mul(5, 2, 3)"
   ]
  },
  {
   "cell_type": "code",
   "execution_count": 54,
   "metadata": {},
   "outputs": [
    {
     "data": {
      "text/plain": [
       "5148.0"
      ]
     },
     "execution_count": 54,
     "metadata": {},
     "output_type": "execute_result"
    }
   ],
   "source": [
    "4 * comb(13, 5)"
   ]
  },
  {
   "cell_type": "code",
   "execution_count": 53,
   "metadata": {},
   "outputs": [
    {
     "data": {
      "text/plain": [
       "2598960.0"
      ]
     },
     "execution_count": 53,
     "metadata": {},
     "output_type": "execute_result"
    }
   ],
   "source": [
    "comb(52, 5)"
   ]
  },
  {
   "cell_type": "code",
   "execution_count": 51,
   "metadata": {},
   "outputs": [
    {
     "data": {
      "text/plain": [
       "6.721514597578657e+65"
      ]
     },
     "execution_count": 51,
     "metadata": {},
     "output_type": "execute_result"
    }
   ],
   "source": [
    "comb_mul(52, 5)"
   ]
  },
  {
   "cell_type": "code",
   "execution_count": 31,
   "metadata": {},
   "outputs": [
    {
     "data": {
      "text/plain": [
       "10080.0"
      ]
     },
     "execution_count": 31,
     "metadata": {},
     "output_type": "execute_result"
    }
   ],
   "source": [
    "comb_mul(10, 3, 2, 5) * 4"
   ]
  },
  {
   "cell_type": "code",
   "execution_count": 43,
   "metadata": {},
   "outputs": [
    {
     "data": {
      "text/plain": [
       "56.0"
      ]
     },
     "execution_count": 43,
     "metadata": {},
     "output_type": "execute_result"
    }
   ],
   "source": [
    "comb(8, 5)"
   ]
  },
  {
   "cell_type": "code",
   "execution_count": 47,
   "metadata": {},
   "outputs": [
    {
     "data": {
      "text/plain": [
       "479001600"
      ]
     },
     "execution_count": 47,
     "metadata": {},
     "output_type": "execute_result"
    }
   ],
   "source": [
    "factorial(12)"
   ]
  },
  {
   "cell_type": "code",
   "execution_count": 50,
   "metadata": {},
   "outputs": [
    {
     "data": {
      "text/plain": [
       "3628800"
      ]
     },
     "execution_count": 50,
     "metadata": {},
     "output_type": "execute_result"
    }
   ],
   "source": [
    "factorial(7) * factorial(5) * 6"
   ]
  },
  {
   "cell_type": "code",
   "execution_count": 49,
   "metadata": {},
   "outputs": [
    {
     "data": {
      "text/plain": [
       "4838400"
      ]
     },
     "execution_count": 49,
     "metadata": {},
     "output_type": "execute_result"
    }
   ],
   "source": [
    "factorial(7) * factorial(5) * 8"
   ]
  },
  {
   "cell_type": "code",
   "execution_count": 48,
   "metadata": {
    "scrolled": true
   },
   "outputs": [
    {
     "data": {
      "text/plain": [
       "33868800"
      ]
     },
     "execution_count": 48,
     "metadata": {},
     "output_type": "execute_result"
    }
   ],
   "source": [
    "factorial(7) * factorial(5) * 56"
   ]
  },
  {
   "cell_type": "code",
   "execution_count": 68,
   "metadata": {},
   "outputs": [
    {
     "data": {
      "text/plain": [
       "5148.0"
      ]
     },
     "execution_count": 68,
     "metadata": {},
     "output_type": "execute_result"
    }
   ],
   "source": [
    "comb(13, 5) * 4"
   ]
  },
  {
   "cell_type": "code",
   "execution_count": 14,
   "metadata": {},
   "outputs": [
    {
     "name": "stdout",
     "output_type": "stream",
     "text": [
      "<class 'tuple'>\n"
     ]
    }
   ],
   "source": [
    "comb_mul(1, 2, 3)"
   ]
  },
  {
   "cell_type": "code",
   "execution_count": 32,
   "metadata": {},
   "outputs": [
    {
     "data": {
      "text/plain": [
       "560.0"
      ]
     },
     "execution_count": 32,
     "metadata": {},
     "output_type": "execute_result"
    }
   ],
   "source": [
    "comb(7, 4) * (2**4)"
   ]
  },
  {
   "cell_type": "code",
   "execution_count": 12,
   "metadata": {},
   "outputs": [
    {
     "data": {
      "text/plain": [
       "-160.0"
      ]
     },
     "execution_count": 12,
     "metadata": {},
     "output_type": "execute_result"
    }
   ],
   "source": [
    "comb(6, 3) * -8"
   ]
  },
  {
   "cell_type": "code",
   "execution_count": 38,
   "metadata": {},
   "outputs": [
    {
     "data": {
      "text/plain": [
       "{1, 2, 3}"
      ]
     },
     "execution_count": 38,
     "metadata": {},
     "output_type": "execute_result"
    }
   ],
   "source": [
    "set([1, 2, 3])"
   ]
  },
  {
   "cell_type": "code",
   "execution_count": 67,
   "metadata": {},
   "outputs": [
    {
     "name": "stdout",
     "output_type": "stream",
     "text": [
      "[1, 1, 2, 3, 4]\n",
      "[1, 1, 2, 4, 3]\n",
      "[1, 1, 3, 2, 4]\n",
      "[1, 1, 3, 4, 2]\n",
      "[1, 1, 4, 2, 3]\n",
      "[1, 1, 4, 3, 2]\n",
      "[1, 2, 1, 3, 4]\n",
      "[1, 2, 1, 4, 3]\n",
      "[1, 2, 3, 1, 4]\n",
      "[1, 2, 3, 4, 1]\n",
      "[1, 2, 4, 1, 3]\n",
      "[1, 2, 4, 3, 1]\n",
      "[1, 3, 1, 2, 4]\n",
      "[1, 3, 1, 4, 2]\n",
      "[1, 3, 2, 1, 4]\n",
      "[1, 3, 2, 4, 1]\n",
      "[1, 3, 4, 1, 2]\n",
      "[1, 3, 4, 2, 1]\n",
      "[1, 4, 1, 2, 3]\n",
      "[1, 4, 1, 3, 2]\n",
      "[1, 4, 2, 1, 3]\n",
      "[1, 4, 2, 3, 1]\n",
      "[1, 4, 3, 1, 2]\n",
      "[1, 4, 3, 2, 1]\n",
      "[2, 1, 1, 3, 4]\n",
      "[2, 1, 1, 4, 3]\n",
      "[2, 1, 3, 1, 4]\n",
      "[2, 1, 3, 4, 1]\n",
      "[2, 1, 4, 1, 3]\n",
      "[2, 1, 4, 3, 1]\n",
      "[2, 3, 1, 1, 4]\n",
      "[2, 3, 1, 4, 1]\n",
      "[2, 3, 4, 1, 1]\n",
      "[2, 4, 1, 1, 3]\n",
      "[2, 4, 1, 3, 1]\n",
      "[2, 4, 3, 1, 1]\n",
      "[3, 1, 1, 2, 4]\n",
      "[3, 1, 1, 4, 2]\n",
      "[3, 1, 2, 1, 4]\n",
      "[3, 1, 2, 4, 1]\n",
      "[3, 1, 4, 1, 2]\n",
      "[3, 1, 4, 2, 1]\n",
      "[3, 2, 1, 1, 4]\n",
      "[3, 2, 1, 4, 1]\n",
      "[3, 2, 4, 1, 1]\n",
      "[3, 4, 1, 1, 2]\n",
      "[3, 4, 1, 2, 1]\n",
      "[3, 4, 2, 1, 1]\n",
      "[4, 1, 1, 2, 3]\n",
      "[4, 1, 1, 3, 2]\n",
      "[4, 1, 2, 1, 3]\n",
      "[4, 1, 2, 3, 1]\n",
      "[4, 1, 3, 1, 2]\n",
      "[4, 1, 3, 2, 1]\n",
      "[4, 2, 1, 1, 3]\n",
      "[4, 2, 1, 3, 1]\n",
      "[4, 2, 3, 1, 1]\n",
      "[4, 3, 1, 1, 2]\n",
      "[4, 3, 1, 2, 1]\n",
      "[4, 3, 2, 1, 1]\n"
     ]
    },
    {
     "data": {
      "text/plain": [
       "(240, 784, 60)"
      ]
     },
     "execution_count": 67,
     "metadata": {},
     "output_type": "execute_result"
    }
   ],
   "source": [
    "A = [1, 2, 3, 4]\n",
    "onto_count = 0\n",
    "missing_count = 0\n",
    "double_ones = 0\n",
    "for i in A:\n",
    "    for j in A:\n",
    "        for k in A:\n",
    "            for l in A:\n",
    "                for m in A:\n",
    "                    if len(set([i, j, k, l, m])) == 4:\n",
    "                        if [i, j, k, l, m].count(1) == 2:\n",
    "                            print([i, j, k, l, m])\n",
    "                            double_ones += 1\n",
    "                        onto_count += 1\n",
    "                    else:\n",
    "                        missing_count += 1\n",
    "\n",
    "onto_count, missing_count, double_ones"
   ]
  },
  {
   "cell_type": "code",
   "execution_count": 64,
   "metadata": {},
   "outputs": [
    {
     "data": {
      "text/plain": [
       "2"
      ]
     },
     "execution_count": 64,
     "metadata": {},
     "output_type": "execute_result"
    }
   ],
   "source": [
    "sum(map(lambda x: x == 1, [1, 2, 3, 1, 4]))"
   ]
  },
  {
   "cell_type": "code",
   "execution_count": 69,
   "metadata": {},
   "outputs": [
    {
     "data": {
      "text/plain": [
       "685464.0"
      ]
     },
     "execution_count": 69,
     "metadata": {},
     "output_type": "execute_result"
    }
   ],
   "source": [
    "comb(13, 2) * 4 * 13**3"
   ]
  }
 ],
 "metadata": {
  "kernelspec": {
   "display_name": "Python 3",
   "language": "python",
   "name": "python3"
  },
  "language_info": {
   "codemirror_mode": {
    "name": "ipython",
    "version": 3
   },
   "file_extension": ".py",
   "mimetype": "text/x-python",
   "name": "python",
   "nbconvert_exporter": "python",
   "pygments_lexer": "ipython3",
   "version": "3.6.1"
  }
 },
 "nbformat": 4,
 "nbformat_minor": 2
}
