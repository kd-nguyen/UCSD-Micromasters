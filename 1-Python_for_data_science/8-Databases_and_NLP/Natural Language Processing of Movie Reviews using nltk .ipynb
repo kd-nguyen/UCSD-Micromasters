{
 "cells": [
  {
   "cell_type": "markdown",
   "metadata": {},
   "source": [
    "# Natural Language Processing with `nltk`\n",
    "\n",
    "`nltk` is the most popular Python package for Natural Language processing, it provides algorithms for importing, cleaning, pre-processing text data in human language and then apply computational linguistics algorithms like sentiment analysis."
   ]
  },
  {
   "cell_type": "markdown",
   "metadata": {},
   "source": [
    "## Inspect the Movie Reviews Dataset"
   ]
  },
  {
   "cell_type": "markdown",
   "metadata": {},
   "source": [
    "It also includes many easy-to-use datasets in the `nltk.corpus` package, we can download for example the `movie_reviews` package using the `nltk.download` function:"
   ]
  },
  {
   "cell_type": "code",
   "execution_count": 1,
   "metadata": {
    "collapsed": true
   },
   "outputs": [],
   "source": [
    "import nltk"
   ]
  },
  {
   "cell_type": "code",
   "execution_count": 2,
   "metadata": {},
   "outputs": [
    {
     "name": "stdout",
     "output_type": "stream",
     "text": [
      "[nltk_data] Downloading package movie_reviews to\n",
      "[nltk_data]     C:\\Users\\nguye\\AppData\\Roaming\\nltk_data...\n",
      "[nltk_data]   Unzipping corpora\\movie_reviews.zip.\n"
     ]
    },
    {
     "data": {
      "text/plain": [
       "True"
      ]
     },
     "execution_count": 2,
     "metadata": {},
     "output_type": "execute_result"
    }
   ],
   "source": [
    "nltk.download(\"movie_reviews\")"
   ]
  },
  {
   "cell_type": "markdown",
   "metadata": {},
   "source": [
    "You can also list and download other datasets interactively just typing:\n",
    "\n",
    "    nltk.download()\n",
    "    \n",
    "in the Jupyter Notebook."
   ]
  },
  {
   "cell_type": "markdown",
   "metadata": {},
   "source": [
    "Once the data have been downloaded, we can import them from `nltk.corpus`"
   ]
  },
  {
   "cell_type": "code",
   "execution_count": 3,
   "metadata": {
    "collapsed": true
   },
   "outputs": [],
   "source": [
    "from nltk.corpus import movie_reviews"
   ]
  },
  {
   "cell_type": "markdown",
   "metadata": {},
   "source": [
    "The `fileids` method provided by all the datasets in `nltk.corpus` gives access to a list of all the files available.\n",
    "\n",
    "In particular in the movie_reviews dataset we have 2000 text files, each of them is a review of a movie, and they are already split in a `neg` folder for the negative reviews and a `pos` folder for the positive reviews:"
   ]
  },
  {
   "cell_type": "code",
   "execution_count": 4,
   "metadata": {},
   "outputs": [
    {
     "data": {
      "text/plain": [
       "2000"
      ]
     },
     "execution_count": 4,
     "metadata": {},
     "output_type": "execute_result"
    }
   ],
   "source": [
    "len(movie_reviews.fileids())"
   ]
  },
  {
   "cell_type": "code",
   "execution_count": 5,
   "metadata": {},
   "outputs": [
    {
     "data": {
      "text/plain": [
       "['neg/cv000_29416.txt',\n",
       " 'neg/cv001_19502.txt',\n",
       " 'neg/cv002_17424.txt',\n",
       " 'neg/cv003_12683.txt',\n",
       " 'neg/cv004_12641.txt']"
      ]
     },
     "execution_count": 5,
     "metadata": {},
     "output_type": "execute_result"
    }
   ],
   "source": [
    "movie_reviews.fileids()[:5]"
   ]
  },
  {
   "cell_type": "code",
   "execution_count": 6,
   "metadata": {},
   "outputs": [
    {
     "data": {
      "text/plain": [
       "['pos/cv995_21821.txt',\n",
       " 'pos/cv996_11592.txt',\n",
       " 'pos/cv997_5046.txt',\n",
       " 'pos/cv998_14111.txt',\n",
       " 'pos/cv999_13106.txt']"
      ]
     },
     "execution_count": 6,
     "metadata": {},
     "output_type": "execute_result"
    }
   ],
   "source": [
    "movie_reviews.fileids()[-5:]"
   ]
  },
  {
   "cell_type": "markdown",
   "metadata": {},
   "source": [
    "`fileids` can also filter the available files based on their category, which is the name of the subfolders they are located in. Therefore we can have lists of positive and negative reviews separately."
   ]
  },
  {
   "cell_type": "code",
   "execution_count": 7,
   "metadata": {
    "collapsed": true
   },
   "outputs": [],
   "source": [
    "negative_fileids = movie_reviews.fileids('neg')\n",
    "positive_fileids = movie_reviews.fileids('pos')"
   ]
  },
  {
   "cell_type": "code",
   "execution_count": 8,
   "metadata": {},
   "outputs": [
    {
     "data": {
      "text/plain": [
       "(1000, 1000)"
      ]
     },
     "execution_count": 8,
     "metadata": {},
     "output_type": "execute_result"
    }
   ],
   "source": [
    "len(negative_fileids), len(positive_fileids)"
   ]
  },
  {
   "cell_type": "markdown",
   "metadata": {},
   "source": [
    "We can inspect one of the reviews using the `raw` method of `movie_reviews`, each file is split into sentences, the curators of this dataset also removed from each review from any direct mention of the rating of the movie."
   ]
  },
  {
   "cell_type": "code",
   "execution_count": 9,
   "metadata": {},
   "outputs": [
    {
     "name": "stdout",
     "output_type": "stream",
     "text": [
      "films adapted from comic books have had plenty of success , whether they're about superheroes ( batman , superman , spawn ) , or geared toward kids ( casper ) or the arthouse crowd ( ghost world ) , but there's never really been a comic book like from hell before . \n",
      "for starters , it was created by alan moore ( and eddie campbell ) , who brought the medium to a whole new level in the mid '80s with a 12-part series called the watchmen . \n",
      "to say moore and campbell thoroughly researched the subject of jack the ripper would be like saying michael jackson is starting to look a little odd . \n",
      "the book ( or \" graphic novel , \" if you will ) is over 500 pages long and includes nearly 30 more that consist of nothing but footnotes . \n",
      "in other words , don't dismiss this film because of its source . \n",
      "if you can get past the whole comic book thing , you might find another stumbling block in from hell's directors , albert and allen hughes . \n",
      "getting the hughes brothers to direct this seems almost as ludicrous as casting carrot top in , well , anything , but riddle me this : who better to direct a film that's set in the ghetto and features really violent street crime than the mad geniuses behind menace ii society ? \n",
      "the ghetto in question is , of course , whitechapel in 1888 london's east end . \n",
      "it's a filthy , sooty place where the whores ( called \" unfortunates \" ) are starting to get a little nervous about this mysterious psychopath who has been carving through their profession with surgical precision . \n",
      "when the first stiff turns up , copper peter godley ( robbie coltrane , the world is not enough ) calls in inspector frederick abberline ( johnny depp , blow ) to crack the case . \n",
      "abberline , a widower , has prophetic dreams he unsuccessfully tries to quell with copious amounts of absinthe and opium . \n",
      "upon arriving in whitechapel , he befriends an unfortunate named mary kelly ( heather graham , say it isn't so ) and proceeds to investigate the horribly gruesome crimes that even the police surgeon can't stomach . \n",
      "i don't think anyone needs to be briefed on jack the ripper , so i won't go into the particulars here , other than to say moore and campbell have a unique and interesting theory about both the identity of the killer and the reasons he chooses to slay . \n",
      "in the comic , they don't bother cloaking the identity of the ripper , but screenwriters terry hayes ( vertical limit ) and rafael yglesias ( les mis ? rables ) do a good job of keeping him hidden from viewers until the very end . \n",
      "it's funny to watch the locals blindly point the finger of blame at jews and indians because , after all , an englishman could never be capable of committing such ghastly acts . \n",
      "and from hell's ending had me whistling the stonecutters song from the simpsons for days ( \" who holds back the electric car/who made steve guttenberg a star ? \" ) . \n",
      "don't worry - it'll all make sense when you see it . \n",
      "now onto from hell's appearance : it's certainly dark and bleak enough , and it's surprising to see how much more it looks like a tim burton film than planet of the apes did ( at times , it seems like sleepy hollow 2 ) . \n",
      "the print i saw wasn't completely finished ( both color and music had not been finalized , so no comments about marilyn manson ) , but cinematographer peter deming ( don't say a word ) ably captures the dreariness of victorian-era london and helped make the flashy killing scenes remind me of the crazy flashbacks in twin peaks , even though the violence in the film pales in comparison to that in the black-and-white comic . \n",
      "oscar winner martin childs' ( shakespeare in love ) production design turns the original prague surroundings into one creepy place . \n",
      "even the acting in from hell is solid , with the dreamy depp turning in a typically strong performance and deftly handling a british accent . \n",
      "ians holm ( joe gould's secret ) and richardson ( 102 dalmatians ) log in great supporting roles , but the big surprise here is graham . \n",
      "i cringed the first time she opened her mouth , imagining her attempt at an irish accent , but it actually wasn't half bad . \n",
      "the film , however , is all good . \n",
      "2 : 00 - r for strong violence/gore , sexuality , language and drug content \n",
      "\n"
     ]
    }
   ],
   "source": [
    "print(movie_reviews.raw(fileids=positive_fileids[0]))"
   ]
  },
  {
   "cell_type": "markdown",
   "metadata": {},
   "source": [
    "## Tokenize Text in Words"
   ]
  },
  {
   "cell_type": "code",
   "execution_count": 10,
   "metadata": {
    "collapsed": true
   },
   "outputs": [],
   "source": [
    "romeo_text = \"\"\"Why then, O brawling love! O loving hate!\n",
    "O any thing, of nothing first create!\n",
    "O heavy lightness, serious vanity,\n",
    "Misshapen chaos of well-seeming forms,\n",
    "Feather of lead, bright smoke, cold fire, sick health,\n",
    "Still-waking sleep, that is not what it is!\n",
    "This love feel I, that feel no love in this.\"\"\""
   ]
  },
  {
   "cell_type": "markdown",
   "metadata": {},
   "source": [
    "The first step in Natural Language processing is generally to split the text into words, this process might appear simple but it is very tedious to handle all corner cases, see for example all the issues with punctuation we have to solve if we just start with a split on whitespace:"
   ]
  },
  {
   "cell_type": "code",
   "execution_count": 11,
   "metadata": {},
   "outputs": [
    {
     "data": {
      "text/plain": [
       "['Why',\n",
       " 'then,',\n",
       " 'O',\n",
       " 'brawling',\n",
       " 'love!',\n",
       " 'O',\n",
       " 'loving',\n",
       " 'hate!',\n",
       " 'O',\n",
       " 'any',\n",
       " 'thing,',\n",
       " 'of',\n",
       " 'nothing',\n",
       " 'first',\n",
       " 'create!',\n",
       " 'O',\n",
       " 'heavy',\n",
       " 'lightness,',\n",
       " 'serious',\n",
       " 'vanity,',\n",
       " 'Misshapen',\n",
       " 'chaos',\n",
       " 'of',\n",
       " 'well-seeming',\n",
       " 'forms,',\n",
       " 'Feather',\n",
       " 'of',\n",
       " 'lead,',\n",
       " 'bright',\n",
       " 'smoke,',\n",
       " 'cold',\n",
       " 'fire,',\n",
       " 'sick',\n",
       " 'health,',\n",
       " 'Still-waking',\n",
       " 'sleep,',\n",
       " 'that',\n",
       " 'is',\n",
       " 'not',\n",
       " 'what',\n",
       " 'it',\n",
       " 'is!',\n",
       " 'This',\n",
       " 'love',\n",
       " 'feel',\n",
       " 'I,',\n",
       " 'that',\n",
       " 'feel',\n",
       " 'no',\n",
       " 'love',\n",
       " 'in',\n",
       " 'this.']"
      ]
     },
     "execution_count": 11,
     "metadata": {},
     "output_type": "execute_result"
    }
   ],
   "source": [
    "romeo_text.split()"
   ]
  },
  {
   "cell_type": "markdown",
   "metadata": {},
   "source": [
    "`nltk` has a sophisticated word tokenizer trained on English named `punkt`, we first have to download its parameters: "
   ]
  },
  {
   "cell_type": "code",
   "execution_count": 12,
   "metadata": {},
   "outputs": [
    {
     "name": "stdout",
     "output_type": "stream",
     "text": [
      "[nltk_data] Downloading package punkt to\n",
      "[nltk_data]     C:\\Users\\nguye\\AppData\\Roaming\\nltk_data...\n",
      "[nltk_data]   Unzipping tokenizers\\punkt.zip.\n"
     ]
    },
    {
     "data": {
      "text/plain": [
       "True"
      ]
     },
     "execution_count": 12,
     "metadata": {},
     "output_type": "execute_result"
    }
   ],
   "source": [
    "nltk.download(\"punkt\")"
   ]
  },
  {
   "cell_type": "markdown",
   "metadata": {},
   "source": [
    "Then we can use the `word_tokenize` function to properly tokenize this text, compare to the whitespace splitting we used above:"
   ]
  },
  {
   "cell_type": "code",
   "execution_count": 13,
   "metadata": {
    "collapsed": true
   },
   "outputs": [],
   "source": [
    "romeo_words = nltk.word_tokenize(romeo_text)"
   ]
  },
  {
   "cell_type": "code",
   "execution_count": 14,
   "metadata": {},
   "outputs": [
    {
     "data": {
      "text/plain": [
       "['Why',\n",
       " 'then',\n",
       " ',',\n",
       " 'O',\n",
       " 'brawling',\n",
       " 'love',\n",
       " '!',\n",
       " 'O',\n",
       " 'loving',\n",
       " 'hate',\n",
       " '!',\n",
       " 'O',\n",
       " 'any',\n",
       " 'thing',\n",
       " ',',\n",
       " 'of',\n",
       " 'nothing',\n",
       " 'first',\n",
       " 'create',\n",
       " '!',\n",
       " 'O',\n",
       " 'heavy',\n",
       " 'lightness',\n",
       " ',',\n",
       " 'serious',\n",
       " 'vanity',\n",
       " ',',\n",
       " 'Misshapen',\n",
       " 'chaos',\n",
       " 'of',\n",
       " 'well-seeming',\n",
       " 'forms',\n",
       " ',',\n",
       " 'Feather',\n",
       " 'of',\n",
       " 'lead',\n",
       " ',',\n",
       " 'bright',\n",
       " 'smoke',\n",
       " ',',\n",
       " 'cold',\n",
       " 'fire',\n",
       " ',',\n",
       " 'sick',\n",
       " 'health',\n",
       " ',',\n",
       " 'Still-waking',\n",
       " 'sleep',\n",
       " ',',\n",
       " 'that',\n",
       " 'is',\n",
       " 'not',\n",
       " 'what',\n",
       " 'it',\n",
       " 'is',\n",
       " '!',\n",
       " 'This',\n",
       " 'love',\n",
       " 'feel',\n",
       " 'I',\n",
       " ',',\n",
       " 'that',\n",
       " 'feel',\n",
       " 'no',\n",
       " 'love',\n",
       " 'in',\n",
       " 'this',\n",
       " '.']"
      ]
     },
     "execution_count": 14,
     "metadata": {},
     "output_type": "execute_result"
    }
   ],
   "source": [
    "romeo_words"
   ]
  },
  {
   "cell_type": "markdown",
   "metadata": {},
   "source": [
    "Good news is that the `movie_reviews` corpus already has direct access to tokenized text with the `words` method:"
   ]
  },
  {
   "cell_type": "code",
   "execution_count": 15,
   "metadata": {},
   "outputs": [
    {
     "data": {
      "text/plain": [
       "['films', 'adapted', 'from', 'comic', 'books', 'have', ...]"
      ]
     },
     "execution_count": 15,
     "metadata": {},
     "output_type": "execute_result"
    }
   ],
   "source": [
    "movie_reviews.words(fileids=positive_fileids[0])"
   ]
  },
  {
   "cell_type": "markdown",
   "metadata": {},
   "source": [
    "## Build a bag-of-words model\n",
    "\n",
    "The simplest model for analyzing text is just to think about text as an unordered collection of words (bag-of-words). This can generally allow to infer from the text the category, the topic or the sentiment.\n",
    "\n",
    "From the bag-of-words model we can build features to be used by a classifier, here we assume that each word is a feature that can either be `True` or `False`.\n",
    "We implement this in Python as a dictionary where for each word in a sentence we associate `True`, if a word is missing, that would be the same as assigning `False`."
   ]
  },
  {
   "cell_type": "code",
   "execution_count": 16,
   "metadata": {},
   "outputs": [
    {
     "data": {
      "text/plain": [
       "{'!': True,\n",
       " ',': True,\n",
       " '.': True,\n",
       " 'Feather': True,\n",
       " 'I': True,\n",
       " 'Misshapen': True,\n",
       " 'O': True,\n",
       " 'Still-waking': True,\n",
       " 'This': True,\n",
       " 'Why': True,\n",
       " 'any': True,\n",
       " 'brawling': True,\n",
       " 'bright': True,\n",
       " 'chaos': True,\n",
       " 'cold': True,\n",
       " 'create': True,\n",
       " 'feel': True,\n",
       " 'fire': True,\n",
       " 'first': True,\n",
       " 'forms': True,\n",
       " 'hate': True,\n",
       " 'health': True,\n",
       " 'heavy': True,\n",
       " 'in': True,\n",
       " 'is': True,\n",
       " 'it': True,\n",
       " 'lead': True,\n",
       " 'lightness': True,\n",
       " 'love': True,\n",
       " 'loving': True,\n",
       " 'no': True,\n",
       " 'not': True,\n",
       " 'nothing': True,\n",
       " 'of': True,\n",
       " 'serious': True,\n",
       " 'sick': True,\n",
       " 'sleep': True,\n",
       " 'smoke': True,\n",
       " 'that': True,\n",
       " 'then': True,\n",
       " 'thing': True,\n",
       " 'this': True,\n",
       " 'vanity': True,\n",
       " 'well-seeming': True,\n",
       " 'what': True}"
      ]
     },
     "execution_count": 16,
     "metadata": {},
     "output_type": "execute_result"
    }
   ],
   "source": [
    "{word:True for word in romeo_words}"
   ]
  },
  {
   "cell_type": "code",
   "execution_count": 17,
   "metadata": {},
   "outputs": [
    {
     "data": {
      "text/plain": [
       "dict"
      ]
     },
     "execution_count": 17,
     "metadata": {},
     "output_type": "execute_result"
    }
   ],
   "source": [
    "type(_)"
   ]
  },
  {
   "cell_type": "code",
   "execution_count": 18,
   "metadata": {
    "collapsed": true
   },
   "outputs": [],
   "source": [
    "def build_bag_of_words_features(words):\n",
    "    return {word:True for word in words}"
   ]
  },
  {
   "cell_type": "code",
   "execution_count": 19,
   "metadata": {},
   "outputs": [
    {
     "data": {
      "text/plain": [
       "{'!': True,\n",
       " ',': True,\n",
       " '.': True,\n",
       " 'Feather': True,\n",
       " 'I': True,\n",
       " 'Misshapen': True,\n",
       " 'O': True,\n",
       " 'Still-waking': True,\n",
       " 'This': True,\n",
       " 'Why': True,\n",
       " 'any': True,\n",
       " 'brawling': True,\n",
       " 'bright': True,\n",
       " 'chaos': True,\n",
       " 'cold': True,\n",
       " 'create': True,\n",
       " 'feel': True,\n",
       " 'fire': True,\n",
       " 'first': True,\n",
       " 'forms': True,\n",
       " 'hate': True,\n",
       " 'health': True,\n",
       " 'heavy': True,\n",
       " 'in': True,\n",
       " 'is': True,\n",
       " 'it': True,\n",
       " 'lead': True,\n",
       " 'lightness': True,\n",
       " 'love': True,\n",
       " 'loving': True,\n",
       " 'no': True,\n",
       " 'not': True,\n",
       " 'nothing': True,\n",
       " 'of': True,\n",
       " 'serious': True,\n",
       " 'sick': True,\n",
       " 'sleep': True,\n",
       " 'smoke': True,\n",
       " 'that': True,\n",
       " 'then': True,\n",
       " 'thing': True,\n",
       " 'this': True,\n",
       " 'vanity': True,\n",
       " 'well-seeming': True,\n",
       " 'what': True}"
      ]
     },
     "execution_count": 19,
     "metadata": {},
     "output_type": "execute_result"
    }
   ],
   "source": [
    "build_bag_of_words_features(romeo_words)"
   ]
  },
  {
   "cell_type": "markdown",
   "metadata": {},
   "source": [
    "This is what we wanted, but we notice that also punctuation like \"!\" and words useless for classification purposes like \"of\" or \"that\" are also included.\n",
    "Those words are named \"stopwords\" and `nltk` has a convenient corpus we can download:"
   ]
  },
  {
   "cell_type": "code",
   "execution_count": 20,
   "metadata": {},
   "outputs": [
    {
     "name": "stdout",
     "output_type": "stream",
     "text": [
      "[nltk_data] Downloading package stopwords to\n",
      "[nltk_data]     C:\\Users\\nguye\\AppData\\Roaming\\nltk_data...\n",
      "[nltk_data]   Unzipping corpora\\stopwords.zip.\n"
     ]
    },
    {
     "data": {
      "text/plain": [
       "True"
      ]
     },
     "execution_count": 20,
     "metadata": {},
     "output_type": "execute_result"
    }
   ],
   "source": [
    "nltk.download(\"stopwords\")"
   ]
  },
  {
   "cell_type": "code",
   "execution_count": 21,
   "metadata": {
    "collapsed": true
   },
   "outputs": [],
   "source": [
    "import string"
   ]
  },
  {
   "cell_type": "code",
   "execution_count": 22,
   "metadata": {},
   "outputs": [
    {
     "data": {
      "text/plain": [
       "'!\"#$%&\\'()*+,-./:;<=>?@[\\\\]^_`{|}~'"
      ]
     },
     "execution_count": 22,
     "metadata": {},
     "output_type": "execute_result"
    }
   ],
   "source": [
    "string.punctuation"
   ]
  },
  {
   "cell_type": "markdown",
   "metadata": {},
   "source": [
    "Using the Python `string.punctuation` list and the English stopwords we can build better features by filtering out those words that would not help in the classification:"
   ]
  },
  {
   "cell_type": "code",
   "execution_count": 23,
   "metadata": {},
   "outputs": [],
   "source": [
    "useless_words = nltk.corpus.stopwords.words(\"english\") + list(string.punctuation)\n",
    "#useless_words\n",
    "#type(useless_words)"
   ]
  },
  {
   "cell_type": "code",
   "execution_count": 46,
   "metadata": {},
   "outputs": [
    {
     "data": {
      "text/plain": [
       "['i',\n",
       " 'me',\n",
       " 'my',\n",
       " 'myself',\n",
       " 'we',\n",
       " 'our',\n",
       " 'ours',\n",
       " 'ourselves',\n",
       " 'you',\n",
       " 'your',\n",
       " 'yours',\n",
       " 'yourself',\n",
       " 'yourselves',\n",
       " 'he',\n",
       " 'him',\n",
       " 'his',\n",
       " 'himself',\n",
       " 'she',\n",
       " 'her',\n",
       " 'hers',\n",
       " 'herself',\n",
       " 'it',\n",
       " 'its',\n",
       " 'itself',\n",
       " 'they',\n",
       " 'them',\n",
       " 'their',\n",
       " 'theirs',\n",
       " 'themselves',\n",
       " 'what',\n",
       " 'which',\n",
       " 'who',\n",
       " 'whom',\n",
       " 'this',\n",
       " 'that',\n",
       " 'these',\n",
       " 'those',\n",
       " 'am',\n",
       " 'is',\n",
       " 'are',\n",
       " 'was',\n",
       " 'were',\n",
       " 'be',\n",
       " 'been',\n",
       " 'being',\n",
       " 'have',\n",
       " 'has',\n",
       " 'had',\n",
       " 'having',\n",
       " 'do',\n",
       " 'does',\n",
       " 'did',\n",
       " 'doing',\n",
       " 'a',\n",
       " 'an',\n",
       " 'the',\n",
       " 'and',\n",
       " 'but',\n",
       " 'if',\n",
       " 'or',\n",
       " 'because',\n",
       " 'as',\n",
       " 'until',\n",
       " 'while',\n",
       " 'of',\n",
       " 'at',\n",
       " 'by',\n",
       " 'for',\n",
       " 'with',\n",
       " 'about',\n",
       " 'against',\n",
       " 'between',\n",
       " 'into',\n",
       " 'through',\n",
       " 'during',\n",
       " 'before',\n",
       " 'after',\n",
       " 'above',\n",
       " 'below',\n",
       " 'to',\n",
       " 'from',\n",
       " 'up',\n",
       " 'down',\n",
       " 'in',\n",
       " 'out',\n",
       " 'on',\n",
       " 'off',\n",
       " 'over',\n",
       " 'under',\n",
       " 'again',\n",
       " 'further',\n",
       " 'then',\n",
       " 'once',\n",
       " 'here',\n",
       " 'there',\n",
       " 'when',\n",
       " 'where',\n",
       " 'why',\n",
       " 'how',\n",
       " 'all',\n",
       " 'any',\n",
       " 'both',\n",
       " 'each',\n",
       " 'few',\n",
       " 'more',\n",
       " 'most',\n",
       " 'other',\n",
       " 'some',\n",
       " 'such',\n",
       " 'no',\n",
       " 'nor',\n",
       " 'not',\n",
       " 'only',\n",
       " 'own',\n",
       " 'same',\n",
       " 'so',\n",
       " 'than',\n",
       " 'too',\n",
       " 'very',\n",
       " 's',\n",
       " 't',\n",
       " 'can',\n",
       " 'will',\n",
       " 'just',\n",
       " 'don',\n",
       " 'should',\n",
       " 'now',\n",
       " 'd',\n",
       " 'll',\n",
       " 'm',\n",
       " 'o',\n",
       " 're',\n",
       " 've',\n",
       " 'y',\n",
       " 'ain',\n",
       " 'aren',\n",
       " 'couldn',\n",
       " 'didn',\n",
       " 'doesn',\n",
       " 'hadn',\n",
       " 'hasn',\n",
       " 'haven',\n",
       " 'isn',\n",
       " 'ma',\n",
       " 'mightn',\n",
       " 'mustn',\n",
       " 'needn',\n",
       " 'shan',\n",
       " 'shouldn',\n",
       " 'wasn',\n",
       " 'weren',\n",
       " 'won',\n",
       " 'wouldn',\n",
       " '!',\n",
       " '\"',\n",
       " '#',\n",
       " '$',\n",
       " '%',\n",
       " '&',\n",
       " \"'\",\n",
       " '(',\n",
       " ')',\n",
       " '*',\n",
       " '+',\n",
       " ',',\n",
       " '-',\n",
       " '.',\n",
       " '/',\n",
       " ':',\n",
       " ';',\n",
       " '<',\n",
       " '=',\n",
       " '>',\n",
       " '?',\n",
       " '@',\n",
       " '[',\n",
       " '\\\\',\n",
       " ']',\n",
       " '^',\n",
       " '_',\n",
       " '`',\n",
       " '{',\n",
       " '|',\n",
       " '}',\n",
       " '~']"
      ]
     },
     "execution_count": 46,
     "metadata": {},
     "output_type": "execute_result"
    }
   ],
   "source": [
    "useless_words"
   ]
  },
  {
   "cell_type": "code",
   "execution_count": 24,
   "metadata": {
    "collapsed": true
   },
   "outputs": [],
   "source": [
    "def build_bag_of_words_features_filtered(words):\n",
    "    return {\n",
    "        word:1 for word in words \\\n",
    "        if not word in useless_words}"
   ]
  },
  {
   "cell_type": "code",
   "execution_count": 25,
   "metadata": {},
   "outputs": [
    {
     "data": {
      "text/plain": [
       "{'Feather': 1,\n",
       " 'I': 1,\n",
       " 'Misshapen': 1,\n",
       " 'O': 1,\n",
       " 'Still-waking': 1,\n",
       " 'This': 1,\n",
       " 'Why': 1,\n",
       " 'brawling': 1,\n",
       " 'bright': 1,\n",
       " 'chaos': 1,\n",
       " 'cold': 1,\n",
       " 'create': 1,\n",
       " 'feel': 1,\n",
       " 'fire': 1,\n",
       " 'first': 1,\n",
       " 'forms': 1,\n",
       " 'hate': 1,\n",
       " 'health': 1,\n",
       " 'heavy': 1,\n",
       " 'lead': 1,\n",
       " 'lightness': 1,\n",
       " 'love': 1,\n",
       " 'loving': 1,\n",
       " 'nothing': 1,\n",
       " 'serious': 1,\n",
       " 'sick': 1,\n",
       " 'sleep': 1,\n",
       " 'smoke': 1,\n",
       " 'thing': 1,\n",
       " 'vanity': 1,\n",
       " 'well-seeming': 1}"
      ]
     },
     "execution_count": 25,
     "metadata": {},
     "output_type": "execute_result"
    }
   ],
   "source": [
    "build_bag_of_words_features_filtered(romeo_words)"
   ]
  },
  {
   "cell_type": "markdown",
   "metadata": {},
   "source": [
    "## Plotting Frequencies of Words\n",
    "\n",
    "It is common to explore a dataset before starting the analysis, in this section we will find the most common words and plot their frequency.\n",
    "\n",
    "Using the `.words()` function with no argument we can extract the words from the entire dataset and check that it is about 1.6 millions."
   ]
  },
  {
   "cell_type": "code",
   "execution_count": 47,
   "metadata": {},
   "outputs": [
    {
     "data": {
      "text/plain": [
       "<CategorizedPlaintextCorpusReader in 'C:\\\\Users\\\\nguye\\\\AppData\\\\Roaming\\\\nltk_data\\\\corpora\\\\movie_reviews'>"
      ]
     },
     "execution_count": 47,
     "metadata": {},
     "output_type": "execute_result"
    }
   ],
   "source": [
    "movie_reviews"
   ]
  },
  {
   "cell_type": "code",
   "execution_count": 26,
   "metadata": {},
   "outputs": [
    {
     "data": {
      "text/plain": [
       "1.58382"
      ]
     },
     "execution_count": 26,
     "metadata": {},
     "output_type": "execute_result"
    }
   ],
   "source": [
    "all_words = movie_reviews.words()\n",
    "len(all_words)/1e6"
   ]
  },
  {
   "cell_type": "markdown",
   "metadata": {},
   "source": [
    "First we want to filter out `useless_words` as defined in the previous section, this will reduce the length of the dataset by more than a factor of 2:"
   ]
  },
  {
   "cell_type": "code",
   "execution_count": 27,
   "metadata": {},
   "outputs": [
    {
     "data": {
      "text/plain": [
       "list"
      ]
     },
     "execution_count": 27,
     "metadata": {},
     "output_type": "execute_result"
    }
   ],
   "source": [
    "filtered_words = [word for word in movie_reviews.words() if not word in useless_words]\n",
    "type(filtered_words)"
   ]
  },
  {
   "cell_type": "code",
   "execution_count": 28,
   "metadata": {},
   "outputs": [
    {
     "data": {
      "text/plain": [
       "0.710579"
      ]
     },
     "execution_count": 28,
     "metadata": {},
     "output_type": "execute_result"
    }
   ],
   "source": [
    "len(filtered_words)/1e6"
   ]
  },
  {
   "cell_type": "markdown",
   "metadata": {},
   "source": [
    "The `collection` package of the standard library contains a `Counter` class that is handy for counting frequencies of words in our list:"
   ]
  },
  {
   "cell_type": "code",
   "execution_count": 29,
   "metadata": {},
   "outputs": [],
   "source": [
    "from collections import Counter\n",
    "\n",
    "word_counter = Counter(filtered_words)"
   ]
  },
  {
   "cell_type": "markdown",
   "metadata": {},
   "source": [
    "It also has a `most_common()` method to access the words with the higher count:"
   ]
  },
  {
   "cell_type": "code",
   "execution_count": 30,
   "metadata": {
    "collapsed": true
   },
   "outputs": [],
   "source": [
    "most_common_words = word_counter.most_common()[:10]"
   ]
  },
  {
   "cell_type": "code",
   "execution_count": 31,
   "metadata": {},
   "outputs": [
    {
     "data": {
      "text/plain": [
       "[('film', 9517),\n",
       " ('one', 5852),\n",
       " ('movie', 5771),\n",
       " ('like', 3690),\n",
       " ('even', 2565),\n",
       " ('good', 2411),\n",
       " ('time', 2411),\n",
       " ('story', 2169),\n",
       " ('would', 2109),\n",
       " ('much', 2049)]"
      ]
     },
     "execution_count": 31,
     "metadata": {},
     "output_type": "execute_result"
    }
   ],
   "source": [
    "most_common_words"
   ]
  },
  {
   "cell_type": "markdown",
   "metadata": {},
   "source": [
    "Then we would like to have a visualization of this using `matplotlib`.\n",
    "\n",
    "First we want to use the Jupyter magic function\n",
    "\n",
    "    %matplotlib inline\n",
    "    \n",
    "to setup the Notebook to show the plot embedded into the Jupyter Notebook page, you can also test:\n",
    "\n",
    "    %matplotlib notebook\n",
    "    \n",
    "for a more interactive plotting interface which however is not as well supported on all platforms and browsers."
   ]
  },
  {
   "cell_type": "code",
   "execution_count": 32,
   "metadata": {
    "collapsed": true
   },
   "outputs": [],
   "source": [
    "%matplotlib inline\n",
    "import matplotlib.pyplot as plt"
   ]
  },
  {
   "cell_type": "markdown",
   "metadata": {},
   "source": [
    "We can sort the word counts and plot their values on Logarithmic axes to check the shape of the distribution. This visualization is particularly useful if comparing 2 or more datasets, a flatter distribution indicates a large vocabulary while a peaked distribution a restricted vocabulary often due to a focused topic or specialized language."
   ]
  },
  {
   "cell_type": "code",
   "execution_count": 51,
   "metadata": {},
   "outputs": [
    {
     "data": {
      "text/plain": [
       "Counter({'plot': 1513,\n",
       "         'two': 1911,\n",
       "         'teen': 151,\n",
       "         'couples': 27,\n",
       "         'go': 1113,\n",
       "         'church': 69,\n",
       "         'party': 183,\n",
       "         'drink': 32,\n",
       "         'drive': 105,\n",
       "         'get': 1949,\n",
       "         'accident': 104,\n",
       "         'one': 5852,\n",
       "         'guys': 268,\n",
       "         'dies': 104,\n",
       "         'girlfriend': 218,\n",
       "         'continues': 88,\n",
       "         'see': 1749,\n",
       "         'life': 1586,\n",
       "         'nightmares': 26,\n",
       "         'deal': 219,\n",
       "         'watch': 603,\n",
       "         'movie': 5771,\n",
       "         'sorta': 10,\n",
       "         'find': 782,\n",
       "         'critique': 61,\n",
       "         'mind': 451,\n",
       "         'fuck': 17,\n",
       "         'generation': 96,\n",
       "         'touches': 55,\n",
       "         'cool': 208,\n",
       "         'idea': 386,\n",
       "         'presents': 78,\n",
       "         'bad': 1395,\n",
       "         'package': 30,\n",
       "         'makes': 992,\n",
       "         'review': 295,\n",
       "         'even': 2565,\n",
       "         'harder': 33,\n",
       "         'write': 119,\n",
       "         'since': 768,\n",
       "         'generally': 103,\n",
       "         'applaud': 10,\n",
       "         'films': 1536,\n",
       "         'attempt': 263,\n",
       "         'break': 175,\n",
       "         'mold': 14,\n",
       "         'mess': 159,\n",
       "         'head': 387,\n",
       "         'lost': 409,\n",
       "         'highway': 28,\n",
       "         'memento': 10,\n",
       "         'good': 2411,\n",
       "         'ways': 189,\n",
       "         'making': 602,\n",
       "         'types': 48,\n",
       "         'folks': 74,\n",
       "         'snag': 2,\n",
       "         'correctly': 17,\n",
       "         'seem': 574,\n",
       "         'taken': 225,\n",
       "         'pretty': 528,\n",
       "         'neat': 32,\n",
       "         'concept': 114,\n",
       "         'executed': 46,\n",
       "         'terribly': 58,\n",
       "         'problems': 293,\n",
       "         'well': 1906,\n",
       "         'main': 399,\n",
       "         'problem': 396,\n",
       "         'simply': 428,\n",
       "         'jumbled': 12,\n",
       "         'starts': 316,\n",
       "         'normal': 111,\n",
       "         'downshifts': 2,\n",
       "         'fantasy': 97,\n",
       "         'world': 1037,\n",
       "         'audience': 914,\n",
       "         'member': 126,\n",
       "         'going': 888,\n",
       "         'dreams': 131,\n",
       "         'characters': 1859,\n",
       "         'coming': 275,\n",
       "         'back': 1060,\n",
       "         'dead': 418,\n",
       "         'others': 288,\n",
       "         'look': 835,\n",
       "         'like': 3690,\n",
       "         'strange': 185,\n",
       "         'apparitions': 5,\n",
       "         'disappearances': 3,\n",
       "         'looooot': 1,\n",
       "         'chase': 159,\n",
       "         'scenes': 1274,\n",
       "         'tons': 21,\n",
       "         'weird': 100,\n",
       "         'things': 852,\n",
       "         'happen': 220,\n",
       "         'explained': 70,\n",
       "         'personally': 44,\n",
       "         'trying': 566,\n",
       "         'unravel': 9,\n",
       "         'film': 9517,\n",
       "         'every': 947,\n",
       "         'give': 561,\n",
       "         'clue': 45,\n",
       "         'kind': 559,\n",
       "         'fed': 29,\n",
       "         'biggest': 149,\n",
       "         'obviously': 228,\n",
       "         'got': 470,\n",
       "         'big': 1064,\n",
       "         'secret': 184,\n",
       "         'hide': 40,\n",
       "         'seems': 1033,\n",
       "         'want': 560,\n",
       "         'completely': 440,\n",
       "         'final': 380,\n",
       "         'five': 284,\n",
       "         'minutes': 644,\n",
       "         'make': 1642,\n",
       "         'entertaining': 314,\n",
       "         'thrilling': 46,\n",
       "         'engaging': 79,\n",
       "         'meantime': 19,\n",
       "         'really': 1558,\n",
       "         'sad': 108,\n",
       "         'part': 714,\n",
       "         'arrow': 29,\n",
       "         'dig': 19,\n",
       "         'flicks': 81,\n",
       "         'actually': 837,\n",
       "         'figured': 29,\n",
       "         'half': 535,\n",
       "         'way': 1693,\n",
       "         'point': 685,\n",
       "         'strangeness': 6,\n",
       "         'start': 312,\n",
       "         'little': 1501,\n",
       "         'bit': 568,\n",
       "         'sense': 555,\n",
       "         'still': 1047,\n",
       "         'guess': 226,\n",
       "         'bottom': 93,\n",
       "         'line': 435,\n",
       "         'movies': 1206,\n",
       "         'always': 586,\n",
       "         'sure': 523,\n",
       "         'given': 502,\n",
       "         'password': 4,\n",
       "         'enter': 68,\n",
       "         'understanding': 57,\n",
       "         'mean': 242,\n",
       "         'showing': 147,\n",
       "         'melissa': 12,\n",
       "         'sagemiller': 8,\n",
       "         'running': 323,\n",
       "         'away': 655,\n",
       "         'visions': 31,\n",
       "         '20': 98,\n",
       "         'throughout': 302,\n",
       "         'plain': 82,\n",
       "         'lazy': 34,\n",
       "         'okay': 125,\n",
       "         'people': 1455,\n",
       "         'chasing': 43,\n",
       "         'know': 1217,\n",
       "         'need': 316,\n",
       "         'giving': 214,\n",
       "         'us': 1073,\n",
       "         'different': 430,\n",
       "         'offering': 38,\n",
       "         'insight': 54,\n",
       "         'apparently': 209,\n",
       "         'studio': 163,\n",
       "         'took': 164,\n",
       "         'director': 1237,\n",
       "         'chopped': 5,\n",
       "         'shows': 410,\n",
       "         'might': 635,\n",
       "         'decent': 164,\n",
       "         'somewhere': 127,\n",
       "         'suits': 45,\n",
       "         'decided': 104,\n",
       "         'turning': 80,\n",
       "         'music': 480,\n",
       "         'video': 322,\n",
       "         'edge': 104,\n",
       "         'would': 2109,\n",
       "         'actors': 706,\n",
       "         'although': 795,\n",
       "         'wes': 50,\n",
       "         'bentley': 9,\n",
       "         'seemed': 212,\n",
       "         'playing': 362,\n",
       "         'exact': 64,\n",
       "         'character': 2020,\n",
       "         'american': 559,\n",
       "         'beauty': 135,\n",
       "         'new': 1292,\n",
       "         'neighborhood': 21,\n",
       "         'kudos': 21,\n",
       "         'holds': 90,\n",
       "         'entire': 408,\n",
       "         'feeling': 225,\n",
       "         'unraveling': 2,\n",
       "         'overall': 160,\n",
       "         'stick': 69,\n",
       "         'entertain': 53,\n",
       "         'confusing': 94,\n",
       "         'rarely': 102,\n",
       "         'excites': 2,\n",
       "         'feels': 216,\n",
       "         'redundant': 14,\n",
       "         'runtime': 8,\n",
       "         'despite': 352,\n",
       "         'ending': 423,\n",
       "         'explanation': 69,\n",
       "         'craziness': 4,\n",
       "         'came': 185,\n",
       "         'oh': 216,\n",
       "         'horror': 473,\n",
       "         'slasher': 84,\n",
       "         'flick': 196,\n",
       "         'packaged': 3,\n",
       "         'someone': 401,\n",
       "         'assuming': 15,\n",
       "         'genre': 268,\n",
       "         'hot': 127,\n",
       "         'kids': 328,\n",
       "         'also': 1967,\n",
       "         'wrapped': 39,\n",
       "         'production': 300,\n",
       "         'years': 846,\n",
       "         'ago': 199,\n",
       "         'sitting': 93,\n",
       "         'shelves': 13,\n",
       "         'ever': 776,\n",
       "         'whatever': 136,\n",
       "         'skip': 45,\n",
       "         'joblo': 30,\n",
       "         'nightmare': 60,\n",
       "         'elm': 14,\n",
       "         'street': 140,\n",
       "         '3': 222,\n",
       "         '7': 115,\n",
       "         '10': 449,\n",
       "         'blair': 98,\n",
       "         'witch': 108,\n",
       "         '2': 439,\n",
       "         'crow': 55,\n",
       "         '9': 75,\n",
       "         'salvation': 14,\n",
       "         '4': 190,\n",
       "         'stir': 27,\n",
       "         'echoes': 31,\n",
       "         '8': 140,\n",
       "         'happy': 215,\n",
       "         'bastard': 46,\n",
       "         'quick': 139,\n",
       "         'damn': 88,\n",
       "         'y2k': 4,\n",
       "         'bug': 81,\n",
       "         'starring': 184,\n",
       "         'jamie': 42,\n",
       "         'lee': 266,\n",
       "         'curtis': 37,\n",
       "         'another': 1121,\n",
       "         'baldwin': 89,\n",
       "         'brother': 268,\n",
       "         'william': 206,\n",
       "         'time': 2411,\n",
       "         'story': 2169,\n",
       "         'regarding': 31,\n",
       "         'crew': 214,\n",
       "         'tugboat': 2,\n",
       "         'comes': 733,\n",
       "         'across': 221,\n",
       "         'deserted': 21,\n",
       "         'russian': 68,\n",
       "         'tech': 29,\n",
       "         'ship': 264,\n",
       "         'kick': 52,\n",
       "         'power': 238,\n",
       "         'within': 227,\n",
       "         'gore': 110,\n",
       "         'bringing': 81,\n",
       "         'action': 1172,\n",
       "         'sequences': 293,\n",
       "         'virus': 77,\n",
       "         'empty': 67,\n",
       "         'flash': 62,\n",
       "         'substance': 73,\n",
       "         'middle': 222,\n",
       "         'nowhere': 98,\n",
       "         'origin': 8,\n",
       "         'pink': 24,\n",
       "         'flashy': 41,\n",
       "         'thing': 809,\n",
       "         'hit': 285,\n",
       "         'mir': 7,\n",
       "         'course': 648,\n",
       "         'donald': 38,\n",
       "         'sutherland': 39,\n",
       "         'stumbling': 15,\n",
       "         'around': 903,\n",
       "         'drunkenly': 2,\n",
       "         'hey': 70,\n",
       "         'let': 425,\n",
       "         'robots': 27,\n",
       "         'acting': 695,\n",
       "         'average': 119,\n",
       "         'likes': 99,\n",
       "         'likely': 164,\n",
       "         'work': 1020,\n",
       "         'halloween': 60,\n",
       "         'h20': 7,\n",
       "         'wasted': 118,\n",
       "         'real': 915,\n",
       "         'star': 761,\n",
       "         'stan': 12,\n",
       "         'winston': 4,\n",
       "         'robot': 45,\n",
       "         'design': 87,\n",
       "         'schnazzy': 1,\n",
       "         'cgi': 50,\n",
       "         'occasional': 62,\n",
       "         'shot': 348,\n",
       "         'picking': 28,\n",
       "         'brain': 93,\n",
       "         'body': 269,\n",
       "         'parts': 207,\n",
       "         'turn': 363,\n",
       "         'otherwise': 156,\n",
       "         'much': 2049,\n",
       "         'sunken': 4,\n",
       "         'jaded': 12,\n",
       "         'viewer': 218,\n",
       "         'thankful': 7,\n",
       "         'invention': 11,\n",
       "         'timex': 1,\n",
       "         'indiglo': 1,\n",
       "         'based': 389,\n",
       "         'late': 238,\n",
       "         '1960': 22,\n",
       "         'television': 220,\n",
       "         'show': 741,\n",
       "         'name': 392,\n",
       "         'mod': 17,\n",
       "         'squad': 40,\n",
       "         'tells': 255,\n",
       "         'tale': 216,\n",
       "         'three': 695,\n",
       "         'reformed': 7,\n",
       "         'criminals': 35,\n",
       "         'employ': 16,\n",
       "         'police': 241,\n",
       "         'undercover': 28,\n",
       "         'however': 989,\n",
       "         'wrong': 385,\n",
       "         'evidence': 66,\n",
       "         'gets': 865,\n",
       "         'stolen': 58,\n",
       "         'immediately': 163,\n",
       "         'suspicion': 19,\n",
       "         'ads': 33,\n",
       "         'cuts': 60,\n",
       "         'claire': 70,\n",
       "         'dane': 5,\n",
       "         'nice': 344,\n",
       "         'hair': 109,\n",
       "         'cute': 134,\n",
       "         'outfits': 21,\n",
       "         'car': 321,\n",
       "         'chases': 50,\n",
       "         'stuff': 208,\n",
       "         'blowing': 26,\n",
       "         'sounds': 133,\n",
       "         'first': 1836,\n",
       "         'fifteen': 64,\n",
       "         'quickly': 255,\n",
       "         'becomes': 526,\n",
       "         'apparent': 100,\n",
       "         'certainly': 361,\n",
       "         'slick': 39,\n",
       "         'looking': 501,\n",
       "         'complete': 197,\n",
       "         'costumes': 71,\n",
       "         'enough': 910,\n",
       "         'best': 1333,\n",
       "         'described': 57,\n",
       "         'cross': 111,\n",
       "         'hour': 355,\n",
       "         'long': 836,\n",
       "         'cop': 208,\n",
       "         'stretched': 19,\n",
       "         'span': 19,\n",
       "         'single': 239,\n",
       "         'clich': 72,\n",
       "         'matter': 321,\n",
       "         'elements': 236,\n",
       "         'recycled': 24,\n",
       "         'everything': 530,\n",
       "         'already': 289,\n",
       "         'seen': 910,\n",
       "         'nothing': 804,\n",
       "         'spectacular': 83,\n",
       "         'sometimes': 277,\n",
       "         'bordering': 6,\n",
       "         'wooden': 48,\n",
       "         'danes': 26,\n",
       "         'omar': 12,\n",
       "         'epps': 16,\n",
       "         'deliver': 92,\n",
       "         'lines': 320,\n",
       "         'bored': 83,\n",
       "         'transfers': 3,\n",
       "         'onto': 119,\n",
       "         'escape': 158,\n",
       "         'relatively': 66,\n",
       "         'unscathed': 8,\n",
       "         'giovanni': 14,\n",
       "         'ribisi': 24,\n",
       "         'plays': 752,\n",
       "         'resident': 8,\n",
       "         'crazy': 99,\n",
       "         'man': 1396,\n",
       "         'ultimately': 158,\n",
       "         'worth': 319,\n",
       "         'watching': 493,\n",
       "         'unfortunately': 382,\n",
       "         'save': 273,\n",
       "         'convoluted': 31,\n",
       "         'apart': 118,\n",
       "         'occupying': 5,\n",
       "         'screen': 705,\n",
       "         'young': 743,\n",
       "         'cast': 769,\n",
       "         'clothes': 51,\n",
       "         'hip': 69,\n",
       "         'soundtrack': 148,\n",
       "         'appears': 243,\n",
       "         'geared': 14,\n",
       "         'towards': 182,\n",
       "         'teenage': 103,\n",
       "         'mindset': 10,\n",
       "         'r': 180,\n",
       "         'rating': 151,\n",
       "         'content': 77,\n",
       "         'justify': 23,\n",
       "         'juvenile': 22,\n",
       "         'older': 103,\n",
       "         'information': 100,\n",
       "         'literally': 106,\n",
       "         'spoon': 22,\n",
       "         'hard': 587,\n",
       "         'instead': 565,\n",
       "         'telling': 133,\n",
       "         'dialogue': 519,\n",
       "         'poorly': 94,\n",
       "         'written': 409,\n",
       "         'extremely': 248,\n",
       "         'predictable': 182,\n",
       "         'progresses': 47,\n",
       "         'care': 304,\n",
       "         'heroes': 101,\n",
       "         'jeopardy': 28,\n",
       "         'basing': 4,\n",
       "         'nobody': 88,\n",
       "         'remembers': 9,\n",
       "         'questionable': 20,\n",
       "         'wisdom': 35,\n",
       "         'especially': 456,\n",
       "         'considers': 19,\n",
       "         'target': 94,\n",
       "         'fact': 805,\n",
       "         'number': 222,\n",
       "         'memorable': 147,\n",
       "         'counted': 13,\n",
       "         'hand': 378,\n",
       "         'missing': 116,\n",
       "         'finger': 25,\n",
       "         'times': 568,\n",
       "         'checked': 7,\n",
       "         'six': 147,\n",
       "         'clear': 184,\n",
       "         'indication': 11,\n",
       "         'cash': 92,\n",
       "         'spending': 46,\n",
       "         'dollar': 55,\n",
       "         'judging': 34,\n",
       "         'rash': 7,\n",
       "         'awful': 132,\n",
       "         'seeing': 339,\n",
       "         'avoid': 91,\n",
       "         'costs': 25,\n",
       "         'quest': 69,\n",
       "         'camelot': 11,\n",
       "         'warner': 48,\n",
       "         'bros': 24,\n",
       "         'feature': 230,\n",
       "         'length': 98,\n",
       "         'fully': 102,\n",
       "         'animated': 179,\n",
       "         'steal': 70,\n",
       "         'clout': 9,\n",
       "         'disney': 290,\n",
       "         'cartoon': 88,\n",
       "         'empire': 41,\n",
       "         'mouse': 51,\n",
       "         'reason': 437,\n",
       "         'worried': 29,\n",
       "         'recent': 211,\n",
       "         'challenger': 2,\n",
       "         'throne': 18,\n",
       "         'last': 843,\n",
       "         'fall': 239,\n",
       "         'promising': 54,\n",
       "         'flawed': 49,\n",
       "         '20th': 28,\n",
       "         'century': 121,\n",
       "         'fox': 111,\n",
       "         'anastasia': 22,\n",
       "         'hercules': 16,\n",
       "         'lively': 32,\n",
       "         'colorful': 51,\n",
       "         'palate': 4,\n",
       "         'beat': 71,\n",
       "         'hands': 148,\n",
       "         'crown': 15,\n",
       "         '1997': 112,\n",
       "         'piece': 244,\n",
       "         'animation': 142,\n",
       "         'year': 886,\n",
       "         'contest': 24,\n",
       "         'arrival': 37,\n",
       "         'magic': 92,\n",
       "         'kingdom': 19,\n",
       "         'mediocre': 74,\n",
       "         '--': 1815,\n",
       "         'pocahontas': 11,\n",
       "         'keeping': 88,\n",
       "         'score': 212,\n",
       "         'nearly': 307,\n",
       "         'dull': 134,\n",
       "         'revolves': 52,\n",
       "         'adventures': 53,\n",
       "         'free': 159,\n",
       "         'spirited': 43,\n",
       "         'kayley': 4,\n",
       "         'voiced': 57,\n",
       "         'jessalyn': 1,\n",
       "         'gilsig': 1,\n",
       "         'early': 303,\n",
       "         'daughter': 317,\n",
       "         'belated': 2,\n",
       "         'knight': 37,\n",
       "         'king': 256,\n",
       "         'arthur': 45,\n",
       "         'round': 49,\n",
       "         'table': 53,\n",
       "         'dream': 164,\n",
       "         'follow': 185,\n",
       "         'father': 492,\n",
       "         'footsteps': 17,\n",
       "         'chance': 223,\n",
       "         'evil': 429,\n",
       "         'warlord': 3,\n",
       "         'ruber': 1,\n",
       "         'gary': 77,\n",
       "         'oldman': 33,\n",
       "         'ex': 165,\n",
       "         'gone': 195,\n",
       "         'steals': 59,\n",
       "         'magical': 51,\n",
       "         'sword': 44,\n",
       "         'excalibur': 3,\n",
       "         'accidentally': 57,\n",
       "         'loses': 85,\n",
       "         'dangerous': 81,\n",
       "         'booby': 4,\n",
       "         'trapped': 52,\n",
       "         'forest': 45,\n",
       "         'help': 537,\n",
       "         'hunky': 12,\n",
       "         'blind': 44,\n",
       "         'timberland': 2,\n",
       "         'dweller': 2,\n",
       "         'garrett': 9,\n",
       "         'carey': 13,\n",
       "         'elwes': 6,\n",
       "         'headed': 75,\n",
       "         'dragon': 56,\n",
       "         'eric': 64,\n",
       "         'idle': 23,\n",
       "         'rickles': 4,\n",
       "         'arguing': 17,\n",
       "         'able': 339,\n",
       "         'medieval': 17,\n",
       "         'sexist': 14,\n",
       "         'prove': 102,\n",
       "         'fighter': 32,\n",
       "         'side': 341,\n",
       "         'pure': 90,\n",
       "         'showmanship': 4,\n",
       "         'essential': 34,\n",
       "         'element': 150,\n",
       "         'expected': 138,\n",
       "         'climb': 16,\n",
       "         'high': 624,\n",
       "         'ranks': 24,\n",
       "         'differentiates': 2,\n",
       "         'something': 1061,\n",
       "         'saturday': 53,\n",
       "         'morning': 66,\n",
       "         'subpar': 3,\n",
       "         'instantly': 41,\n",
       "         'forgettable': 30,\n",
       "         'songs': 119,\n",
       "         'integrated': 7,\n",
       "         'computerized': 4,\n",
       "         'footage': 104,\n",
       "         'compare': 41,\n",
       "         'run': 354,\n",
       "         'angry': 89,\n",
       "         'ogre': 20,\n",
       "         'herc': 2,\n",
       "         'battle': 230,\n",
       "         'hydra': 2,\n",
       "         'rest': 431,\n",
       "         'case': 420,\n",
       "         'stink': 5,\n",
       "         'none': 242,\n",
       "         'remotely': 50,\n",
       "         'interesting': 638,\n",
       "         'race': 127,\n",
       "         'bland': 84,\n",
       "         'end': 1062,\n",
       "         'tie': 34,\n",
       "         'win': 112,\n",
       "         'comedy': 840,\n",
       "         'shtick': 14,\n",
       "         'awfully': 27,\n",
       "         'cloying': 5,\n",
       "         'least': 676,\n",
       "         'signs': 53,\n",
       "         'pulse': 23,\n",
       "         'fans': 245,\n",
       "         \"-'\": 3,\n",
       "         '90s': 41,\n",
       "         'tgif': 2,\n",
       "         'thrilled': 15,\n",
       "         'jaleel': 1,\n",
       "         'urkel': 2,\n",
       "         'white': 314,\n",
       "         'bronson': 20,\n",
       "         'balki': 1,\n",
       "         'pinchot': 2,\n",
       "         'sharing': 14,\n",
       "         'nicely': 98,\n",
       "         'realized': 88,\n",
       "         'though': 940,\n",
       "         'loss': 54,\n",
       "         'recall': 52,\n",
       "         'specific': 36,\n",
       "         'providing': 46,\n",
       "         'voice': 275,\n",
       "         'talent': 223,\n",
       "         'enthusiastic': 18,\n",
       "         'paired': 9,\n",
       "         'singers': 10,\n",
       "         'sound': 245,\n",
       "         'musical': 154,\n",
       "         'moments': 447,\n",
       "         'jane': 83,\n",
       "         'seymour': 8,\n",
       "         'celine': 10,\n",
       "         'dion': 2,\n",
       "         'must': 618,\n",
       "         'strain': 14,\n",
       "         'aside': 118,\n",
       "         'children': 336,\n",
       "         'probably': 539,\n",
       "         'adults': 85,\n",
       "         'grievous': 3,\n",
       "         'error': 15,\n",
       "         'lack': 237,\n",
       "         'personality': 116,\n",
       "         'learn': 172,\n",
       "         'goes': 646,\n",
       "         'synopsis': 67,\n",
       "         'mentally': 37,\n",
       "         'unstable': 15,\n",
       "         'undergoing': 3,\n",
       "         'psychotherapy': 2,\n",
       "         'saves': 43,\n",
       "         'boy': 362,\n",
       "         'potentially': 39,\n",
       "         'fatal': 39,\n",
       "         'falls': 239,\n",
       "         'love': 1119,\n",
       "         'mother': 437,\n",
       "         'fledgling': 7,\n",
       "         'restauranteur': 2,\n",
       "         'unsuccessfully': 9,\n",
       "         'attempting': 55,\n",
       "         'gain': 42,\n",
       "         'woman': 554,\n",
       "         'favor': 47,\n",
       "         'takes': 674,\n",
       "         'pictures': 117,\n",
       "         'kills': 78,\n",
       "         'comments': 53,\n",
       "         'stalked': 23,\n",
       "         'yet': 608,\n",
       "         'seemingly': 124,\n",
       "         'endless': 57,\n",
       "         'string': 39,\n",
       "         'spurned': 4,\n",
       "         'psychos': 4,\n",
       "         'getting': 406,\n",
       "         'revenge': 100,\n",
       "         'type': 214,\n",
       "         'stable': 15,\n",
       "         'category': 40,\n",
       "         '1990s': 23,\n",
       "         'industry': 87,\n",
       "         'theatrical': 61,\n",
       "         'direct': 77,\n",
       "         'proliferation': 3,\n",
       "         'may': 857,\n",
       "         'due': 196,\n",
       "         'typically': 28,\n",
       "         'inexpensive': 3,\n",
       "         'produce': 44,\n",
       "         'special': 574,\n",
       "         'effects': 649,\n",
       "         'stars': 399,\n",
       "         'serve': 79,\n",
       "         'vehicles': 25,\n",
       "         'nudity': 73,\n",
       "         'allowing': 42,\n",
       "         'frequent': 35,\n",
       "         'night': 435,\n",
       "         'cable': 49,\n",
       "         'wavers': 1,\n",
       "         'slightly': 151,\n",
       "         'norm': 26,\n",
       "         'respect': 92,\n",
       "         'psycho': 61,\n",
       "         'never': 1374,\n",
       "         'affair': 96,\n",
       "         'contrary': 27,\n",
       "         'rejected': 19,\n",
       "         'rather': 621,\n",
       "         'lover': 94,\n",
       "         'wife': 588,\n",
       "         'husband': 260,\n",
       "         'entry': 45,\n",
       "         'doomed': 29,\n",
       "         'collect': 19,\n",
       "         'dust': 21,\n",
       "         'viewed': 45,\n",
       "         'midnight': 50,\n",
       "         'provide': 126,\n",
       "         'suspense': 202,\n",
       "         'sets': 241,\n",
       "         'interspersed': 5,\n",
       "         'opening': 306,\n",
       "         'credits': 203,\n",
       "         'instance': 75,\n",
       "         'serious': 216,\n",
       "         'sounding': 34,\n",
       "         'narrator': 37,\n",
       "         'spouts': 4,\n",
       "         'statistics': 1,\n",
       "         'stalkers': 2,\n",
       "         'ponders': 7,\n",
       "         'cause': 98,\n",
       "         'stalk': 4,\n",
       "         'implicitly': 3,\n",
       "         'implied': 9,\n",
       "         'men': 532,\n",
       "         'shown': 131,\n",
       "         'snapshot': 1,\n",
       "         'actor': 546,\n",
       "         'jay': 100,\n",
       "         'underwood': 11,\n",
       "         'states': 110,\n",
       "         'daryl': 24,\n",
       "         'gleason': 2,\n",
       "         'stalker': 10,\n",
       "         'brooke': 13,\n",
       "         'daniels': 27,\n",
       "         'meant': 91,\n",
       "         'called': 391,\n",
       "         'guesswork': 1,\n",
       "         'required': 53,\n",
       "         'proceeds': 29,\n",
       "         'begins': 392,\n",
       "         'obvious': 292,\n",
       "         'sequence': 366,\n",
       "         'contrived': 77,\n",
       "         'quite': 660,\n",
       "         'brings': 202,\n",
       "         'victim': 113,\n",
       "         'together': 522,\n",
       "         'obsesses': 4,\n",
       "         'follows': 170,\n",
       "         'tries': 370,\n",
       "         'woo': 94,\n",
       "         'plans': 90,\n",
       "         'become': 511,\n",
       "         'desperate': 101,\n",
       "         'elaborate': 63,\n",
       "         'include': 110,\n",
       "         'cliche': 65,\n",
       "         'murdered': 55,\n",
       "         'pet': 40,\n",
       "         'require': 36,\n",
       "         'found': 398,\n",
       "         'exception': 102,\n",
       "         'cat': 59,\n",
       "         'shower': 31,\n",
       "         'events': 201,\n",
       "         'lead': 251,\n",
       "         'inevitable': 70,\n",
       "         'showdown': 37,\n",
       "         'survives': 20,\n",
       "         'invariably': 6,\n",
       "         'conclusion': 122,\n",
       "         'turkey': 40,\n",
       "         'uniformly': 15,\n",
       "         'adequate': 38,\n",
       "         'anything': 618,\n",
       "         'home': 550,\n",
       "         'either': 386,\n",
       "         'turns': 403,\n",
       "         'toward': 100,\n",
       "         'melodrama': 36,\n",
       "         'overdoes': 4,\n",
       "         'words': 215,\n",
       "         'manages': 248,\n",
       "         'creepy': 93,\n",
       "         'pass': 98,\n",
       "         'demands': 44,\n",
       "         'maryam': 1,\n",
       "         'abo': 3,\n",
       "         'close': 289,\n",
       "         'played': 791,\n",
       "         'bond': 155,\n",
       "         'chick': 33,\n",
       "         'living': 234,\n",
       "         'daylights': 1,\n",
       "         'equally': 110,\n",
       "         'title': 297,\n",
       "         'ditzy': 14,\n",
       "         'strong': 268,\n",
       "         'independent': 45,\n",
       "         'business': 193,\n",
       "         'owner': 99,\n",
       "         'needs': 221,\n",
       "         'proceed': 26,\n",
       "         'example': 300,\n",
       "         'suspicions': 5,\n",
       "         'ensure': 15,\n",
       "         'use': 398,\n",
       "         'excuse': 75,\n",
       "         'decides': 189,\n",
       "         'return': 195,\n",
       "         'toolbox': 2,\n",
       "         'left': 413,\n",
       "         'place': 615,\n",
       "         'house': 377,\n",
       "         'leave': 215,\n",
       "         'door': 112,\n",
       "         'answers': 58,\n",
       "         'opens': 175,\n",
       "         'wanders': 30,\n",
       "         'returns': 111,\n",
       "         'enters': 34,\n",
       "         'heroine': 56,\n",
       "         'danger': 62,\n",
       "         'somehow': 207,\n",
       "         'parked': 4,\n",
       "         'front': 135,\n",
       "         'right': 798,\n",
       "         'oblivious': 17,\n",
       "         'presence': 195,\n",
       "         'inside': 157,\n",
       "         'whole': 495,\n",
       "         'episode': 98,\n",
       "         'places': 99,\n",
       "         'incredible': 95,\n",
       "         'suspension': 19,\n",
       "         'disbelief': 48,\n",
       "         'questions': 178,\n",
       "         'validity': 2,\n",
       "         'intelligence': 125,\n",
       "         'receives': 32,\n",
       "         'highly': 136,\n",
       "         'derivative': 22,\n",
       "         'somewhat': 188,\n",
       "         'boring': 270,\n",
       "         'cannot': 147,\n",
       "         'watched': 81,\n",
       "         'rated': 146,\n",
       "         'mostly': 247,\n",
       "         'several': 419,\n",
       "         'murder': 250,\n",
       "         'brief': 140,\n",
       "         'strip': 48,\n",
       "         'bar': 74,\n",
       "         'offensive': 75,\n",
       "         'many': 1268,\n",
       "         'thrillers': 62,\n",
       "         'mood': 97,\n",
       "         'stake': 14,\n",
       "         'else': 387,\n",
       "         'capsule': 49,\n",
       "         '2176': 4,\n",
       "         'planet': 243,\n",
       "         'mars': 146,\n",
       "         'taking': 242,\n",
       "         'custody': 19,\n",
       "         'accused': 44,\n",
       "         'murderer': 42,\n",
       "         'face': 357,\n",
       "         'menace': 107,\n",
       "         'lot': 677,\n",
       "         'fighting': 101,\n",
       "         'john': 798,\n",
       "         'carpenter': 77,\n",
       "         'reprises': 12,\n",
       "         'ideas': 144,\n",
       "         'previous': 186,\n",
       "         'assault': 31,\n",
       "         'precinct': 8,\n",
       "         '13': 93,\n",
       "         'homage': 50,\n",
       "         '0': 55,\n",
       "         'believes': 80,\n",
       "         'fight': 323,\n",
       "         'horrible': 103,\n",
       "         'writer': 312,\n",
       "         'supposedly': 78,\n",
       "         'expert': 45,\n",
       "         'mistake': 69,\n",
       "         'ghosts': 45,\n",
       "         'drawn': 89,\n",
       "         'humans': 135,\n",
       "         'surprisingly': 191,\n",
       "         'low': 179,\n",
       "         'powered': 13,\n",
       "         'alien': 378,\n",
       "         'addition': 103,\n",
       "         'anybody': 44,\n",
       "         'made': 1084,\n",
       "         'grounds': 12,\n",
       "         'sue': 22,\n",
       "         'chock': 11,\n",
       "         'full': 375,\n",
       "         'pieces': 96,\n",
       "         'prince': 64,\n",
       "         'darkness': 51,\n",
       "         'surprising': 100,\n",
       "         'managed': 85,\n",
       "         'fit': 76,\n",
       "         'admittedly': 39,\n",
       "         'novel': 257,\n",
       "         'science': 235,\n",
       "         'fiction': 258,\n",
       "         'experience': 235,\n",
       "         'terraformed': 1,\n",
       "         'walk': 106,\n",
       "         'surface': 74,\n",
       "         'without': 697,\n",
       "         'breathing': 24,\n",
       "         'gear': 14,\n",
       "         'budget': 183,\n",
       "         'mentioned': 94,\n",
       "         'gravity': 20,\n",
       "         'increased': 7,\n",
       "         'earth': 317,\n",
       "         'easier': 39,\n",
       "         'society': 155,\n",
       "         'changed': 80,\n",
       "         'advanced': 26,\n",
       "         'culture': 104,\n",
       "         'women': 275,\n",
       "         'positions': 8,\n",
       "         'control': 145,\n",
       "         'view': 164,\n",
       "         'stagnated': 1,\n",
       "         'female': 143,\n",
       "         'beyond': 181,\n",
       "         'minor': 134,\n",
       "         'technological': 11,\n",
       "         'advances': 19,\n",
       "         'less': 475,\n",
       "         '175': 3,\n",
       "         ...})"
      ]
     },
     "execution_count": 51,
     "metadata": {},
     "output_type": "execute_result"
    }
   ],
   "source": [
    "word_counter"
   ]
  },
  {
   "cell_type": "code",
   "execution_count": 58,
   "metadata": {},
   "outputs": [
    {
     "data": {
      "text/plain": [
       "[<matplotlib.lines.Line2D at 0x11b49df8358>]"
      ]
     },
     "execution_count": 58,
     "metadata": {},
     "output_type": "execute_result"
    },
    {
     "data": {
      "image/png": "[encoded data removed]",
      "text/plain": [
       "<matplotlib.figure.Figure at 0x11b4590ad30>"
      ]
     },
     "metadata": {},
     "output_type": "display_data"
    }
   ],
   "source": [
    "plt.plot([2, 3, 4])"
   ]
  },
  {
   "cell_type": "code",
   "execution_count": 56,
   "metadata": {},
   "outputs": [
    {
     "data": {
      "image/png": "[encoded data removed]",
      "text/plain": [
       "<matplotlib.figure.Figure at 0x11b4a8272b0>"
      ]
     },
     "metadata": {},
     "output_type": "display_data"
    }
   ],
   "source": [
    "sorted_word_counts = sorted(list(word_counter.values()), reverse=True)\n",
    "\n",
    "plt.loglog(range(len(sorted_word_counts)), sorted_word_counts)\n",
    "plt.ylabel(\"Freq\")\n",
    "plt.xlabel(\"Word Rank\");"
   ]
  },
  {
   "cell_type": "markdown",
   "metadata": {},
   "source": [
    "Another related plot is the histogram of `sorted_word_counts`, which displays how many words have a count in a specific range.\n",
    "\n",
    "Of course the distribution is highly peaked at low counts, i.e. most of the words appear which a low count, so we better display it on semilogarithmic axes to inspect the tail of the distribution."
   ]
  },
  {
   "cell_type": "code",
   "execution_count": 34,
   "metadata": {},
   "outputs": [
    {
     "data": {
      "image/png": "[encoded data removed]",
      "text/plain": [
       "<matplotlib.figure.Figure at 0x11b4062e7f0>"
      ]
     },
     "metadata": {},
     "output_type": "display_data"
    }
   ],
   "source": [
    "plt.hist(sorted_word_counts, bins=50);"
   ]
  },
  {
   "cell_type": "code",
   "execution_count": 35,
   "metadata": {},
   "outputs": [
    {
     "data": {
      "image/png": "[encoded data removed]",
      "text/plain": [
       "<matplotlib.figure.Figure at 0x11b4080c828>"
      ]
     },
     "metadata": {},
     "output_type": "display_data"
    }
   ],
   "source": [
    "plt.hist(sorted_word_counts, bins=50, log=True);"
   ]
  },
  {
   "cell_type": "markdown",
   "metadata": {},
   "source": [
    "## Train a Classifier for Sentiment Analysis\n",
    "\n",
    "Using our `build_bag_of_words_features` function we can build separately the negative and positive features.\n",
    "Basically for each of the 1000 negative and for the 1000 positive review, we create one dictionary of the words and we associate the label \"neg\" and \"pos\" to it."
   ]
  },
  {
   "cell_type": "code",
   "execution_count": 36,
   "metadata": {
    "collapsed": true
   },
   "outputs": [],
   "source": [
    "negative_features = [\n",
    "    (build_bag_of_words_features_filtered(movie_reviews.words(fileids=[f])), 'neg') \\\n",
    "    for f in negative_fileids\n",
    "]"
   ]
  },
  {
   "cell_type": "code",
   "execution_count": 37,
   "metadata": {},
   "outputs": [
    {
     "name": "stdout",
     "output_type": "stream",
     "text": [
      "({'quest': 1, 'camelot': 1, 'warner': 1, 'bros': 1, 'first': 1, 'feature': 1, 'length': 1, 'fully': 1, 'animated': 1, 'attempt': 1, 'steal': 1, 'clout': 1, 'disney': 1, 'cartoon': 1, 'empire': 1, 'mouse': 1, 'reason': 1, 'worried': 1, 'recent': 1, 'challenger': 1, 'throne': 1, 'last': 1, 'fall': 1, 'promising': 1, 'flawed': 1, '20th': 1, 'century': 1, 'fox': 1, 'production': 1, 'anastasia': 1, 'hercules': 1, 'lively': 1, 'cast': 1, 'colorful': 1, 'palate': 1, 'beat': 1, 'hands': 1, 'came': 1, 'time': 1, 'crown': 1, '1997': 1, 'best': 1, 'piece': 1, 'animation': 1, 'year': 1, 'contest': 1, 'pretty': 1, 'much': 1, 'dead': 1, 'arrival': 1, 'even': 1, 'magic': 1, 'kingdom': 1, 'mediocre': 1, '--': 1, 'pocahontas': 1, 'keeping': 1, 'score': 1, 'nearly': 1, 'dull': 1, 'story': 1, 'revolves': 1, 'around': 1, 'adventures': 1, 'free': 1, 'spirited': 1, 'kayley': 1, 'voiced': 1, 'jessalyn': 1, 'gilsig': 1, 'early': 1, 'teen': 1, 'daughter': 1, 'belated': 1, 'knight': 1, 'king': 1, 'arthur': 1, 'round': 1, 'table': 1, 'dream': 1, 'follow': 1, 'father': 1, 'footsteps': 1, 'gets': 1, 'chance': 1, 'evil': 1, 'warlord': 1, 'ruber': 1, 'gary': 1, 'oldman': 1, 'ex': 1, 'member': 1, 'gone': 1, 'bad': 1, 'steals': 1, 'magical': 1, 'sword': 1, 'excalibur': 1, 'accidentally': 1, 'loses': 1, 'dangerous': 1, 'booby': 1, 'trapped': 1, 'forest': 1, 'help': 1, 'hunky': 1, 'blind': 1, 'timberland': 1, 'dweller': 1, 'garrett': 1, 'carey': 1, 'elwes': 1, 'two': 1, 'headed': 1, 'dragon': 1, 'eric': 1, 'idle': 1, 'rickles': 1, 'always': 1, 'arguing': 1, 'might': 1, 'able': 1, 'break': 1, 'medieval': 1, 'sexist': 1, 'mold': 1, 'prove': 1, 'worth': 1, 'fighter': 1, 'side': 1, 'missing': 1, 'pure': 1, 'showmanship': 1, 'essential': 1, 'element': 1, 'ever': 1, 'expected': 1, 'climb': 1, 'high': 1, 'ranks': 1, 'nothing': 1, 'differentiates': 1, 'something': 1, 'see': 1, 'given': 1, 'saturday': 1, 'morning': 1, 'subpar': 1, 'instantly': 1, 'forgettable': 1, 'songs': 1, 'poorly': 1, 'integrated': 1, 'computerized': 1, 'footage': 1, 'compare': 1, 'run': 1, 'angry': 1, 'ogre': 1, 'herc': 1, 'battle': 1, 'hydra': 1, 'rest': 1, 'case': 1, 'characters': 1, 'stink': 1, 'none': 1, 'remotely': 1, 'interesting': 1, 'film': 1, 'becomes': 1, 'race': 1, 'one': 1, 'bland': 1, 'others': 1, 'end': 1, 'tie': 1, 'win': 1, 'comedy': 1, 'shtick': 1, 'awfully': 1, 'cloying': 1, 'least': 1, 'shows': 1, 'signs': 1, 'pulse': 1, 'fans': 1, \"-'\": 1, '90s': 1, 'tgif': 1, 'television': 1, 'line': 1, 'thrilled': 1, 'find': 1, 'jaleel': 1, 'urkel': 1, 'white': 1, 'bronson': 1, 'balki': 1, 'pinchot': 1, 'sharing': 1, 'scenes': 1, 'nicely': 1, 'realized': 1, 'though': 1, 'loss': 1, 'recall': 1, 'enough': 1, 'specific': 1, 'actors': 1, 'providing': 1, 'voice': 1, 'talent': 1, 'enthusiastic': 1, 'paired': 1, 'singers': 1, 'sound': 1, 'thing': 1, 'like': 1, 'big': 1, 'musical': 1, 'moments': 1, 'jane': 1, 'seymour': 1, 'celine': 1, 'dion': 1, 'must': 1, 'strain': 1, 'mess': 1, 'good': 1, 'aside': 1, 'fact': 1, 'children': 1, 'probably': 1, 'bored': 1, 'watching': 1, 'adults': 1, 'grievous': 1, 'error': 1, 'complete': 1, 'lack': 1, 'personality': 1, 'learn': 1, 'goes': 1, 'long': 1, 'way': 1}, 'neg')\n"
     ]
    }
   ],
   "source": [
    "print(negative_features[3])"
   ]
  },
  {
   "cell_type": "code",
   "execution_count": 38,
   "metadata": {
    "collapsed": true
   },
   "outputs": [],
   "source": [
    "positive_features = [\n",
    "    (build_bag_of_words_features_filtered(movie_reviews.words(fileids=[f])), 'pos') \\\n",
    "    for f in positive_fileids\n",
    "]"
   ]
  },
  {
   "cell_type": "code",
   "execution_count": 39,
   "metadata": {},
   "outputs": [
    {
     "name": "stdout",
     "output_type": "stream",
     "text": [
      "({'apparently': 1, 'director': 1, 'tony': 1, 'kaye': 1, 'major': 1, 'battle': 1, 'new': 1, 'line': 1, 'regarding': 1, 'film': 1, 'american': 1, 'history': 1, 'x': 1, 'know': 1, 'details': 1, 'fight': 1, 'seems': 1, 'happy': 1, 'final': 1, 'product': 1, 'nearly': 1, 'removed': 1, 'name': 1, 'credits': 1, 'altogether': 1, 'heard': 1, 'kind': 1, 'thing': 1, 'happening': 1, 'makes': 1, 'wonder': 1, 'much': 1, 'input': 1, 'studio': 1, 'films': 1, 'produce': 1, 'found': 1, 'extremely': 1, 'good': 1, 'focused': 1, 'look': 1, 'touchy': 1, 'subject': 1, 'racism': 1, 'powerful': 1, 'charismatic': 1, 'performance': 1, 'edward': 1, 'norton': 1, 'hard': 1, 'believe': 1, 'two': 1, 'years': 1, 'since': 1, 'fantastic': 1, 'role': 1, 'primal': 1, 'fear': 1, 'starring': 1, 'making': 1, 'star': 1, 'one': 1, 'performers': 1, 'becomes': 1, 'character': 1, 'work': 1, 'best': 1, 'performances': 1, 'year': 1, 'plays': 1, 'young': 1, 'man': 1, 'named': 1, 'derek': 1, 'vinyard': 1, 'skinhead': 1, 'living': 1, 'venice': 1, 'beach': 1, 'brother': 1, 'danny': 1, 'furlong': 1, 'mother': 1, 'beverly': 1, 'angelo': 1, 'sister': 1, 'davin': 1, 'jennifer': 1, 'lien': 1, 'opens': 1, 'flashback': 1, 'brutally': 1, 'kills': 1, 'black': 1, 'men': 1, 'vandalizing': 1, 'car': 1, 'find': 1, 'lands': 1, 'prison': 1, 'point': 1, 'seen': 1, 'eyes': 1, 'present': 1, 'time': 1, 'high': 1, 'school': 1, 'eager': 1, 'follow': 1, 'footsteps': 1, 'told': 1, 'see': 1, 'path': 1, 'leads': 1, 'adoption': 1, 'white': 1, 'supremacy': 1, 'released': 1, 'served': 1, 'three': 1, 'finds': 1, 'full': 1, 'blown': 1, 'however': 1, 'given': 1, 'violence': 1, 'tries': 1, 'get': 1, 'understand': 1, 'comes': 1, 'bad': 1, 'things': 1, 'interesting': 1, 'stupid': 1, 'thoughtless': 1, 'people': 1, '--': 1, 'intelligent': 1, 'articulate': 1, 'voice': 1, 'beliefs': 1, 'disturbingly': 1, 'straightforward': 1, 'terms': 1, 'make': 1, 'controversial': 1, 'movie': 1, 'preach': 1, 'right': 1, 'note': 1, 'material': 1, 'mainstream': 1, 'redemption': 1, 'phase': 1, 'main': 1, 'may': 1, 'think': 1, 'way': 1, 'sympathetic': 1, 'partially': 1, 'disagree': 1, 'although': 1, 'advocate': 1, 'presents': 1, 'loud': 1, 'obnoxious': 1, 'also': 1, 'smart': 1, 'reasons': 1, 'believable': 1, 'father': 1, 'arbitrarily': 1, 'killed': 1, 'group': 1, 'clear': 1, 'passionate': 1, 'punk': 1, 'looking': 1, 'excuse': 1, 'beat': 1, 'course': 1, 'helps': 1, 'actor': 1, 'talented': 1, 'play': 1, 'part': 1, 'astonishing': 1, 'frightening': 1, 'looks': 1, 'shaved': 1, 'head': 1, 'swastika': 1, 'chest': 1, 'addition': 1, 'getting': 1, 'perfect': 1, 'requires': 1, 'intelligence': 1, 'depth': 1, 'whole': 1, 'lot': 1, 'shouting': 1, 'ease': 1, 'even': 1, 'meanest': 1, 'likable': 1, 'quality': 1, 'gutsy': 1, 'approach': 1, 'telling': 1, 'story': 1, 'adds': 1, 'subplot': 1, 'principal': 1, 'avery': 1, 'brooks': 1, 'obsessed': 1, 'purging': 1, 'hatred': 1, 'terrific': 1, 'standouts': 1, 'visually': 1, 'indulges': 1, 'artistic': 1, 'choices': 1, 'nicely': 1, 'lots': 1, 'slow': 1, 'motion': 1, 'strange': 1, 'camera': 1, 'angles': 1, 'add': 1, 'moody': 1, 'atmosphere': 1, 'like': 1, 'movies': 1, 'lately': 1, 'skims': 1, 'past': 1, 'greatness': 1, 'last': 1, 'minutes': 1, 'climactic': 1, 'scene': 1, 'moving': 1, 'picture': 1, 'ends': 1, 'pretentious': 1, 'preachy': 1, 'resolution': 1, 'featuring': 1, 'brief': 1, 'narration': 1, 'subtle': 1, 'felt': 1, 'slap': 1, 'face': 1, 'hand': 1, 'fed': 1, 'theme': 1, 'simplistic': 1, 'exactly': 1, 'disliked': 1, 'version': 1, 'perhaps': 1, 'problem': 1, 'imagine': 1, 'least': 1, 'pleased': 1, 'many': 1, 'timid': 1, 'weak': 1, 'manages': 1, 'compelling': 1, 'argument': 1, 'without': 1, 'advocating': 1}, 'pos')\n"
     ]
    }
   ],
   "source": [
    "print(positive_features[6])"
   ]
  },
  {
   "cell_type": "code",
   "execution_count": 40,
   "metadata": {
    "collapsed": true
   },
   "outputs": [],
   "source": [
    "from nltk.classify import NaiveBayesClassifier"
   ]
  },
  {
   "cell_type": "markdown",
   "metadata": {},
   "source": [
    "One of the simplest supervised machine learning classifiers is the Naive Bayes Classifier, it can be trained on 80% of the data to learn what words are generally associated with positive or with negative reviews."
   ]
  },
  {
   "cell_type": "code",
   "execution_count": 41,
   "metadata": {
    "collapsed": true
   },
   "outputs": [],
   "source": [
    "split = 800"
   ]
  },
  {
   "cell_type": "code",
   "execution_count": 42,
   "metadata": {},
   "outputs": [],
   "source": [
    "sentiment_classifier = NaiveBayesClassifier.train(positive_features[:split]+negative_features[:split])"
   ]
  },
  {
   "cell_type": "markdown",
   "metadata": {},
   "source": [
    "We can check after training what is the accuracy on the training set, i.e. the same data used for training, we expect this to be a very high number because the algorithm already \"saw\" those data. Accuracy is the fraction of the data that is classified correctly, we can turn it into percent:"
   ]
  },
  {
   "cell_type": "code",
   "execution_count": 43,
   "metadata": {},
   "outputs": [
    {
     "data": {
      "text/plain": [
       "98.0625"
      ]
     },
     "execution_count": 43,
     "metadata": {},
     "output_type": "execute_result"
    }
   ],
   "source": [
    "nltk.classify.util.accuracy(sentiment_classifier, positive_features[:split]+negative_features[:split])*100"
   ]
  },
  {
   "cell_type": "markdown",
   "metadata": {},
   "source": [
    "The accuracy above is mostly a check that nothing went very wrong in the training, the real measure of accuracy is on the remaining 20% of the data that wasn't used in training, the test data:"
   ]
  },
  {
   "cell_type": "code",
   "execution_count": 44,
   "metadata": {},
   "outputs": [
    {
     "data": {
      "text/plain": [
       "71.75"
      ]
     },
     "execution_count": 44,
     "metadata": {},
     "output_type": "execute_result"
    }
   ],
   "source": [
    "nltk.classify.util.accuracy(sentiment_classifier, positive_features[split:]+negative_features[split:])*100"
   ]
  },
  {
   "cell_type": "markdown",
   "metadata": {},
   "source": [
    "Accuracy here is around 70% which is pretty good for such a simple model if we consider that the estimated accuracy for a person is about 80%.\n",
    "We can finally print the most informative features, i.e. the words that mostly identify a positive or a negative review:"
   ]
  },
  {
   "cell_type": "code",
   "execution_count": 45,
   "metadata": {},
   "outputs": [
    {
     "name": "stdout",
     "output_type": "stream",
     "text": [
      "Most Informative Features\n",
      "             outstanding = 1                 pos : neg    =     13.9 : 1.0\n",
      "               insulting = 1                 neg : pos    =     13.7 : 1.0\n",
      "              vulnerable = 1                 pos : neg    =     13.0 : 1.0\n",
      "               ludicrous = 1                 neg : pos    =     12.6 : 1.0\n",
      "             uninvolving = 1                 neg : pos    =     12.3 : 1.0\n",
      "                  avoids = 1                 pos : neg    =     11.7 : 1.0\n",
      "              astounding = 1                 pos : neg    =     11.7 : 1.0\n",
      "             fascination = 1                 pos : neg    =     11.0 : 1.0\n",
      "               affecting = 1                 pos : neg    =     10.3 : 1.0\n",
      "                    anna = 1                 pos : neg    =     10.3 : 1.0\n"
     ]
    }
   ],
   "source": [
    "sentiment_classifier.show_most_informative_features()"
   ]
  }
 ],
 "metadata": {
  "anaconda-cloud": {},
  "kernelspec": {
   "display_name": "Python 3",
   "language": "python",
   "name": "python3"
  },
  "language_info": {
   "codemirror_mode": {
    "name": "ipython",
    "version": 3
   },
   "file_extension": ".py",
   "mimetype": "text/x-python",
   "name": "python",
   "nbconvert_exporter": "python",
   "pygments_lexer": "ipython3",
   "version": "3.6.1"
  }
 },
 "nbformat": 4,
 "nbformat_minor": 1
}
