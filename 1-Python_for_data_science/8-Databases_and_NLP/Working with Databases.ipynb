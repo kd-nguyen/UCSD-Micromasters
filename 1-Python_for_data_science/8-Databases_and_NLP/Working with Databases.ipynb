{
 "cells": [
  {
   "cell_type": "markdown",
   "metadata": {},
   "source": [
    "# Access a Database with Python - Iris Dataset\n",
    "\n",
    "The Iris dataset is a popular dataset especially in the Machine Learning community, it is a set of features of 50  Iris flowers and their classification into 3 species.\n",
    "It is often used to introduce classification Machine Learning algorithms.\n",
    "\n",
    "First let's download the dataset in `SQLite` format from Kaggle:\n",
    "\n",
    "<https://www.kaggle.com/uciml/iris/>\n",
    "\n",
    "Download `database.sqlite` and save it in the `data/iris` folder."
   ]
  },
  {
   "cell_type": "markdown",
   "metadata": {},
   "source": [
    "<p><img   src=\"https://upload.wikimedia.org/wikipedia/commons/4/49/Iris_germanica_%28Purple_bearded_Iris%29%2C_Wakehurst_Place%2C_UK_-_Diliff.jpg\" alt=\"Iris germanica (Purple bearded Iris), Wakehurst Place, UK - Diliff.jpg\" height=\"145\" width=\"114\"></p>\n",
    "\n",
    "<p><br> From <a href=\"https://commons.wikimedia.org/wiki/File:Iris_germanica_(Purple_bearded_Iris),_Wakehurst_Place,_UK_-_Diliff.jpg#/media/File:Iris_germanica_(Purple_bearded_Iris),_Wakehurst_Place,_UK_-_Diliff.jpg\">Wikimedia</a>, by <a href=\"//commons.wikimedia.org/wiki/User:Diliff\" title=\"User:Diliff\">Diliff</a> - <span class=\"int-own-work\" lang=\"en\">Own work</span>, <a href=\"http://creativecommons.org/licenses/by-sa/3.0\" title=\"Creative Commons Attribution-Share Alike 3.0\">CC BY-SA 3.0</a>, <a href=\"https://commons.wikimedia.org/w/index.php?curid=33037509\">Link</a></p>"
   ]
  },
  {
   "cell_type": "markdown",
   "metadata": {},
   "source": [
    "First let's check that the sqlite database is available and display an error message if the file is not available (`assert` checks if the expression is `True`, otherwise throws `AssertionError` with the error message string provided):"
   ]
  },
  {
   "cell_type": "code",
   "execution_count": 18,
   "metadata": {
    "collapsed": true
   },
   "outputs": [],
   "source": [
    "import os\n",
    "data_iris_folder_content = os.listdir(\"data/iris\")"
   ]
  },
  {
   "cell_type": "code",
   "execution_count": 19,
   "metadata": {
    "collapsed": true
   },
   "outputs": [],
   "source": [
    "error_message = \"Error: sqlite file not available, check instructions above to download it\"\n",
    "assert \"database.sqlite\" in data_iris_folder_content, error_message"
   ]
  },
  {
   "cell_type": "markdown",
   "metadata": {},
   "source": [
    "## Access the Database with the sqlite3 Package"
   ]
  },
  {
   "cell_type": "markdown",
   "metadata": {},
   "source": [
    "We can use the `sqlite3` package from the Python standard library to connect to the `sqlite` database:"
   ]
  },
  {
   "cell_type": "code",
   "execution_count": 20,
   "metadata": {
    "collapsed": true
   },
   "outputs": [],
   "source": [
    "import sqlite3"
   ]
  },
  {
   "cell_type": "code",
   "execution_count": 21,
   "metadata": {
    "collapsed": true
   },
   "outputs": [],
   "source": [
    "conn = sqlite3.connect('data/iris/database.sqlite')"
   ]
  },
  {
   "cell_type": "code",
   "execution_count": 22,
   "metadata": {
    "collapsed": true
   },
   "outputs": [],
   "source": [
    "cursor = conn.cursor()"
   ]
  },
  {
   "cell_type": "code",
   "execution_count": 23,
   "metadata": {},
   "outputs": [
    {
     "data": {
      "text/plain": [
       "sqlite3.Cursor"
      ]
     },
     "execution_count": 23,
     "metadata": {},
     "output_type": "execute_result"
    }
   ],
   "source": [
    "type(cursor)"
   ]
  },
  {
   "cell_type": "markdown",
   "metadata": {},
   "source": [
    "A `sqlite3.Cursor` object is our interface to the database, mostly throught the `execute` method that allows to run any `SQL` query on our database.\n",
    "\n",
    "First of all we can get a list of all the tables saved into the database, this is done by reading the column `name` from the `sqlite_master` metadata table with:\n",
    "\n",
    "    SELECT name FROM sqlite_master\n",
    "    \n",
    "The output of the `execute` method is an iterator that can be used in a `for` loop to print the value of each row."
   ]
  },
  {
   "cell_type": "code",
   "execution_count": 24,
   "metadata": {},
   "outputs": [
    {
     "name": "stdout",
     "output_type": "stream",
     "text": [
      "('Iris',)\n"
     ]
    }
   ],
   "source": [
    "for row in cursor.execute(\"SELECT name FROM sqlite_master\"):\n",
    "    print(row)"
   ]
  },
  {
   "cell_type": "markdown",
   "metadata": {},
   "source": [
    "a shortcut to directly execute the query and gather the results is the `fetchall` method:"
   ]
  },
  {
   "cell_type": "code",
   "execution_count": 25,
   "metadata": {},
   "outputs": [
    {
     "data": {
      "text/plain": [
       "[('Iris',)]"
      ]
     },
     "execution_count": 25,
     "metadata": {},
     "output_type": "execute_result"
    }
   ],
   "source": [
    "cursor.execute(\"SELECT name FROM sqlite_master\").fetchall()"
   ]
  },
  {
   "cell_type": "markdown",
   "metadata": {},
   "source": [
    "**Notice**: this way of finding the available tables in a database is specific to `sqlite`, other databases like `MySQL` or `PostgreSQL` have different syntax."
   ]
  },
  {
   "cell_type": "markdown",
   "metadata": {},
   "source": [
    "Then we can execute standard `SQL` query on the database, `SQL` is a language designed to interact with data stored in a relational database. It has a standard specification, therefore the commands below work on any database.\n",
    "\n",
    "If you need to connect to another database, you would use another package instead of `sqlite3`, for example:\n",
    "\n",
    "* [MySQL Connector](https://dev.mysql.com/doc/connector-python/en/) for MySQL\n",
    "* [Psycopg](http://initd.org/psycopg/docs/install.html) for PostgreSQL\n",
    "* [pymssql](http://pymssql.org/en/stable/) for Microsoft MS SQL\n",
    "\n",
    "then you would connect to the database using specific host, port and authentication credentials but then you could execute the same exact `SQL` statements.\n",
    "\n",
    "Let's take a look for example at the first 3 rows in the Iris table:"
   ]
  },
  {
   "cell_type": "code",
   "execution_count": 26,
   "metadata": {
    "collapsed": true
   },
   "outputs": [],
   "source": [
    "sample_data = cursor.execute(\"SELECT * FROM Iris LIMIT 20\").fetchall()"
   ]
  },
  {
   "cell_type": "code",
   "execution_count": 27,
   "metadata": {},
   "outputs": [
    {
     "name": "stdout",
     "output_type": "stream",
     "text": [
      "<class 'list'>\n"
     ]
    },
    {
     "data": {
      "text/plain": [
       "[(1, 5.1, 3.5, 1.4, 0.2, 'Iris-setosa'),\n",
       " (2, 4.9, 3, 1.4, 0.2, 'Iris-setosa'),\n",
       " (3, 4.7, 3.2, 1.3, 0.2, 'Iris-setosa'),\n",
       " (4, 4.6, 3.1, 1.5, 0.2, 'Iris-setosa'),\n",
       " (5, 5, 3.6, 1.4, 0.2, 'Iris-setosa'),\n",
       " (6, 5.4, 3.9, 1.7, 0.4, 'Iris-setosa'),\n",
       " (7, 4.6, 3.4, 1.4, 0.3, 'Iris-setosa'),\n",
       " (8, 5, 3.4, 1.5, 0.2, 'Iris-setosa'),\n",
       " (9, 4.4, 2.9, 1.4, 0.2, 'Iris-setosa'),\n",
       " (10, 4.9, 3.1, 1.5, 0.1, 'Iris-setosa'),\n",
       " (11, 5.4, 3.7, 1.5, 0.2, 'Iris-setosa'),\n",
       " (12, 4.8, 3.4, 1.6, 0.2, 'Iris-setosa'),\n",
       " (13, 4.8, 3, 1.4, 0.1, 'Iris-setosa'),\n",
       " (14, 4.3, 3, 1.1, 0.1, 'Iris-setosa'),\n",
       " (15, 5.8, 4, 1.2, 0.2, 'Iris-setosa'),\n",
       " (16, 5.7, 4.4, 1.5, 0.4, 'Iris-setosa'),\n",
       " (17, 5.4, 3.9, 1.3, 0.4, 'Iris-setosa'),\n",
       " (18, 5.1, 3.5, 1.4, 0.3, 'Iris-setosa'),\n",
       " (19, 5.7, 3.8, 1.7, 0.3, 'Iris-setosa'),\n",
       " (20, 5.1, 3.8, 1.5, 0.3, 'Iris-setosa')]"
      ]
     },
     "execution_count": 27,
     "metadata": {},
     "output_type": "execute_result"
    }
   ],
   "source": [
    "print(type(sample_data))\n",
    "sample_data"
   ]
  },
  {
   "cell_type": "code",
   "execution_count": 37,
   "metadata": {},
   "outputs": [
    {
     "data": {
      "text/plain": [
       "<sqlite3.Connection at 0x2054d4b38f0>"
      ]
     },
     "execution_count": 37,
     "metadata": {},
     "output_type": "execute_result"
    }
   ],
   "source": [
    "conn"
   ]
  },
  {
   "cell_type": "code",
   "execution_count": 36,
   "metadata": {},
   "outputs": [
    {
     "data": {
      "text/plain": [
       "(('Id', None, None, None, None, None, None),\n",
       " ('SepalLengthCm', None, None, None, None, None, None),\n",
       " ('SepalWidthCm', None, None, None, None, None, None),\n",
       " ('PetalLengthCm', None, None, None, None, None, None),\n",
       " ('PetalWidthCm', None, None, None, None, None, None),\n",
       " ('Species', None, None, None, None, None, None))"
      ]
     },
     "execution_count": 36,
     "metadata": {},
     "output_type": "execute_result"
    }
   ],
   "source": [
    "cursor.description"
   ]
  },
  {
   "cell_type": "code",
   "execution_count": 28,
   "metadata": {},
   "outputs": [
    {
     "data": {
      "text/plain": [
       "['Id',\n",
       " 'SepalLengthCm',\n",
       " 'SepalWidthCm',\n",
       " 'PetalLengthCm',\n",
       " 'PetalWidthCm',\n",
       " 'Species']"
      ]
     },
     "execution_count": 28,
     "metadata": {},
     "output_type": "execute_result"
    }
   ],
   "source": [
    "[row[0] for row in cursor.description]"
   ]
  },
  {
   "cell_type": "markdown",
   "metadata": {},
   "source": [
    "It is evident that the interface provided by `sqlite3` is low-level, for data exploration purposes we would like to directly import data into a more user friendly library like `pandas`."
   ]
  },
  {
   "cell_type": "markdown",
   "metadata": {},
   "source": [
    "## Import data from a database to `pandas`"
   ]
  },
  {
   "cell_type": "code",
   "execution_count": 29,
   "metadata": {
    "collapsed": true
   },
   "outputs": [],
   "source": [
    "import pandas as pd"
   ]
  },
  {
   "cell_type": "code",
   "execution_count": 30,
   "metadata": {
    "collapsed": true
   },
   "outputs": [],
   "source": [
    "iris_data = pd.read_sql_query(\"SELECT * FROM Iris\", conn)"
   ]
  },
  {
   "cell_type": "code",
   "execution_count": 31,
   "metadata": {},
   "outputs": [
    {
     "data": {
      "text/html": [
       "<div>\n",
       "<style>\n",
       "    .dataframe thead tr:only-child th {\n",
       "        text-align: right;\n",
       "    }\n",
       "\n",
       "    .dataframe thead th {\n",
       "        text-align: left;\n",
       "    }\n",
       "\n",
       "    .dataframe tbody tr th {\n",
       "        vertical-align: top;\n",
       "    }\n",
       "</style>\n",
       "<table border=\"1\" class=\"dataframe\">\n",
       "  <thead>\n",
       "    <tr style=\"text-align: right;\">\n",
       "      <th></th>\n",
       "      <th>Id</th>\n",
       "      <th>SepalLengthCm</th>\n",
       "      <th>SepalWidthCm</th>\n",
       "      <th>PetalLengthCm</th>\n",
       "      <th>PetalWidthCm</th>\n",
       "      <th>Species</th>\n",
       "    </tr>\n",
       "  </thead>\n",
       "  <tbody>\n",
       "    <tr>\n",
       "      <th>0</th>\n",
       "      <td>1</td>\n",
       "      <td>5.1</td>\n",
       "      <td>3.5</td>\n",
       "      <td>1.4</td>\n",
       "      <td>0.2</td>\n",
       "      <td>Iris-setosa</td>\n",
       "    </tr>\n",
       "    <tr>\n",
       "      <th>1</th>\n",
       "      <td>2</td>\n",
       "      <td>4.9</td>\n",
       "      <td>3.0</td>\n",
       "      <td>1.4</td>\n",
       "      <td>0.2</td>\n",
       "      <td>Iris-setosa</td>\n",
       "    </tr>\n",
       "    <tr>\n",
       "      <th>2</th>\n",
       "      <td>3</td>\n",
       "      <td>4.7</td>\n",
       "      <td>3.2</td>\n",
       "      <td>1.3</td>\n",
       "      <td>0.2</td>\n",
       "      <td>Iris-setosa</td>\n",
       "    </tr>\n",
       "    <tr>\n",
       "      <th>3</th>\n",
       "      <td>4</td>\n",
       "      <td>4.6</td>\n",
       "      <td>3.1</td>\n",
       "      <td>1.5</td>\n",
       "      <td>0.2</td>\n",
       "      <td>Iris-setosa</td>\n",
       "    </tr>\n",
       "    <tr>\n",
       "      <th>4</th>\n",
       "      <td>5</td>\n",
       "      <td>5.0</td>\n",
       "      <td>3.6</td>\n",
       "      <td>1.4</td>\n",
       "      <td>0.2</td>\n",
       "      <td>Iris-setosa</td>\n",
       "    </tr>\n",
       "  </tbody>\n",
       "</table>\n",
       "</div>"
      ],
      "text/plain": [
       "   Id  SepalLengthCm  SepalWidthCm  PetalLengthCm  PetalWidthCm      Species\n",
       "0   1            5.1           3.5            1.4           0.2  Iris-setosa\n",
       "1   2            4.9           3.0            1.4           0.2  Iris-setosa\n",
       "2   3            4.7           3.2            1.3           0.2  Iris-setosa\n",
       "3   4            4.6           3.1            1.5           0.2  Iris-setosa\n",
       "4   5            5.0           3.6            1.4           0.2  Iris-setosa"
      ]
     },
     "execution_count": 31,
     "metadata": {},
     "output_type": "execute_result"
    }
   ],
   "source": [
    "iris_data.head()"
   ]
  },
  {
   "cell_type": "code",
   "execution_count": 42,
   "metadata": {},
   "outputs": [
    {
     "data": {
      "text/plain": [
       "[('Id', 0        1\n",
       "  1        2\n",
       "  2        3\n",
       "  3        4\n",
       "  4        5\n",
       "  5        6\n",
       "  6        7\n",
       "  7        8\n",
       "  8        9\n",
       "  9       10\n",
       "  10      11\n",
       "  11      12\n",
       "  12      13\n",
       "  13      14\n",
       "  14      15\n",
       "  15      16\n",
       "  16      17\n",
       "  17      18\n",
       "  18      19\n",
       "  19      20\n",
       "  20      21\n",
       "  21      22\n",
       "  22      23\n",
       "  23      24\n",
       "  24      25\n",
       "  25      26\n",
       "  26      27\n",
       "  27      28\n",
       "  28      29\n",
       "  29      30\n",
       "        ... \n",
       "  120    121\n",
       "  121    122\n",
       "  122    123\n",
       "  123    124\n",
       "  124    125\n",
       "  125    126\n",
       "  126    127\n",
       "  127    128\n",
       "  128    129\n",
       "  129    130\n",
       "  130    131\n",
       "  131    132\n",
       "  132    133\n",
       "  133    134\n",
       "  134    135\n",
       "  135    136\n",
       "  136    137\n",
       "  137    138\n",
       "  138    139\n",
       "  139    140\n",
       "  140    141\n",
       "  141    142\n",
       "  142    143\n",
       "  143    144\n",
       "  144    145\n",
       "  145    146\n",
       "  146    147\n",
       "  147    148\n",
       "  148    149\n",
       "  149    150\n",
       "  Name: Id, Length: 150, dtype: int64), ('SepalLengthCm', 0      5.1\n",
       "  1      4.9\n",
       "  2      4.7\n",
       "  3      4.6\n",
       "  4      5.0\n",
       "  5      5.4\n",
       "  6      4.6\n",
       "  7      5.0\n",
       "  8      4.4\n",
       "  9      4.9\n",
       "  10     5.4\n",
       "  11     4.8\n",
       "  12     4.8\n",
       "  13     4.3\n",
       "  14     5.8\n",
       "  15     5.7\n",
       "  16     5.4\n",
       "  17     5.1\n",
       "  18     5.7\n",
       "  19     5.1\n",
       "  20     5.4\n",
       "  21     5.1\n",
       "  22     4.6\n",
       "  23     5.1\n",
       "  24     4.8\n",
       "  25     5.0\n",
       "  26     5.0\n",
       "  27     5.2\n",
       "  28     5.2\n",
       "  29     4.7\n",
       "        ... \n",
       "  120    6.9\n",
       "  121    5.6\n",
       "  122    7.7\n",
       "  123    6.3\n",
       "  124    6.7\n",
       "  125    7.2\n",
       "  126    6.2\n",
       "  127    6.1\n",
       "  128    6.4\n",
       "  129    7.2\n",
       "  130    7.4\n",
       "  131    7.9\n",
       "  132    6.4\n",
       "  133    6.3\n",
       "  134    6.1\n",
       "  135    7.7\n",
       "  136    6.3\n",
       "  137    6.4\n",
       "  138    6.0\n",
       "  139    6.9\n",
       "  140    6.7\n",
       "  141    6.9\n",
       "  142    5.8\n",
       "  143    6.8\n",
       "  144    6.7\n",
       "  145    6.7\n",
       "  146    6.3\n",
       "  147    6.5\n",
       "  148    6.2\n",
       "  149    5.9\n",
       "  Name: SepalLengthCm, Length: 150, dtype: float64), ('SepalWidthCm',\n",
       "  0      3.5\n",
       "  1      3.0\n",
       "  2      3.2\n",
       "  3      3.1\n",
       "  4      3.6\n",
       "  5      3.9\n",
       "  6      3.4\n",
       "  7      3.4\n",
       "  8      2.9\n",
       "  9      3.1\n",
       "  10     3.7\n",
       "  11     3.4\n",
       "  12     3.0\n",
       "  13     3.0\n",
       "  14     4.0\n",
       "  15     4.4\n",
       "  16     3.9\n",
       "  17     3.5\n",
       "  18     3.8\n",
       "  19     3.8\n",
       "  20     3.4\n",
       "  21     3.7\n",
       "  22     3.6\n",
       "  23     3.3\n",
       "  24     3.4\n",
       "  25     3.0\n",
       "  26     3.4\n",
       "  27     3.5\n",
       "  28     3.4\n",
       "  29     3.2\n",
       "        ... \n",
       "  120    3.2\n",
       "  121    2.8\n",
       "  122    2.8\n",
       "  123    2.7\n",
       "  124    3.3\n",
       "  125    3.2\n",
       "  126    2.8\n",
       "  127    3.0\n",
       "  128    2.8\n",
       "  129    3.0\n",
       "  130    2.8\n",
       "  131    3.8\n",
       "  132    2.8\n",
       "  133    2.8\n",
       "  134    2.6\n",
       "  135    3.0\n",
       "  136    3.4\n",
       "  137    3.1\n",
       "  138    3.0\n",
       "  139    3.1\n",
       "  140    3.1\n",
       "  141    3.1\n",
       "  142    2.7\n",
       "  143    3.2\n",
       "  144    3.3\n",
       "  145    3.0\n",
       "  146    2.5\n",
       "  147    3.0\n",
       "  148    3.4\n",
       "  149    3.0\n",
       "  Name: SepalWidthCm, Length: 150, dtype: float64), ('PetalLengthCm',\n",
       "  0      1.4\n",
       "  1      1.4\n",
       "  2      1.3\n",
       "  3      1.5\n",
       "  4      1.4\n",
       "  5      1.7\n",
       "  6      1.4\n",
       "  7      1.5\n",
       "  8      1.4\n",
       "  9      1.5\n",
       "  10     1.5\n",
       "  11     1.6\n",
       "  12     1.4\n",
       "  13     1.1\n",
       "  14     1.2\n",
       "  15     1.5\n",
       "  16     1.3\n",
       "  17     1.4\n",
       "  18     1.7\n",
       "  19     1.5\n",
       "  20     1.7\n",
       "  21     1.5\n",
       "  22     1.0\n",
       "  23     1.7\n",
       "  24     1.9\n",
       "  25     1.6\n",
       "  26     1.6\n",
       "  27     1.5\n",
       "  28     1.4\n",
       "  29     1.6\n",
       "        ... \n",
       "  120    5.7\n",
       "  121    4.9\n",
       "  122    6.7\n",
       "  123    4.9\n",
       "  124    5.7\n",
       "  125    6.0\n",
       "  126    4.8\n",
       "  127    4.9\n",
       "  128    5.6\n",
       "  129    5.8\n",
       "  130    6.1\n",
       "  131    6.4\n",
       "  132    5.6\n",
       "  133    5.1\n",
       "  134    5.6\n",
       "  135    6.1\n",
       "  136    5.6\n",
       "  137    5.5\n",
       "  138    4.8\n",
       "  139    5.4\n",
       "  140    5.6\n",
       "  141    5.1\n",
       "  142    5.1\n",
       "  143    5.9\n",
       "  144    5.7\n",
       "  145    5.2\n",
       "  146    5.0\n",
       "  147    5.2\n",
       "  148    5.4\n",
       "  149    5.1\n",
       "  Name: PetalLengthCm, Length: 150, dtype: float64), ('PetalWidthCm',\n",
       "  0      0.2\n",
       "  1      0.2\n",
       "  2      0.2\n",
       "  3      0.2\n",
       "  4      0.2\n",
       "  5      0.4\n",
       "  6      0.3\n",
       "  7      0.2\n",
       "  8      0.2\n",
       "  9      0.1\n",
       "  10     0.2\n",
       "  11     0.2\n",
       "  12     0.1\n",
       "  13     0.1\n",
       "  14     0.2\n",
       "  15     0.4\n",
       "  16     0.4\n",
       "  17     0.3\n",
       "  18     0.3\n",
       "  19     0.3\n",
       "  20     0.2\n",
       "  21     0.4\n",
       "  22     0.2\n",
       "  23     0.5\n",
       "  24     0.2\n",
       "  25     0.2\n",
       "  26     0.4\n",
       "  27     0.2\n",
       "  28     0.2\n",
       "  29     0.2\n",
       "        ... \n",
       "  120    2.3\n",
       "  121    2.0\n",
       "  122    2.0\n",
       "  123    1.8\n",
       "  124    2.1\n",
       "  125    1.8\n",
       "  126    1.8\n",
       "  127    1.8\n",
       "  128    2.1\n",
       "  129    1.6\n",
       "  130    1.9\n",
       "  131    2.0\n",
       "  132    2.2\n",
       "  133    1.5\n",
       "  134    1.4\n",
       "  135    2.3\n",
       "  136    2.4\n",
       "  137    1.8\n",
       "  138    1.8\n",
       "  139    2.1\n",
       "  140    2.4\n",
       "  141    2.3\n",
       "  142    1.9\n",
       "  143    2.3\n",
       "  144    2.5\n",
       "  145    2.3\n",
       "  146    1.9\n",
       "  147    2.0\n",
       "  148    2.3\n",
       "  149    1.8\n",
       "  Name: PetalWidthCm, Length: 150, dtype: float64), ('Species',\n",
       "  0         Iris-setosa\n",
       "  1         Iris-setosa\n",
       "  2         Iris-setosa\n",
       "  3         Iris-setosa\n",
       "  4         Iris-setosa\n",
       "  5         Iris-setosa\n",
       "  6         Iris-setosa\n",
       "  7         Iris-setosa\n",
       "  8         Iris-setosa\n",
       "  9         Iris-setosa\n",
       "  10        Iris-setosa\n",
       "  11        Iris-setosa\n",
       "  12        Iris-setosa\n",
       "  13        Iris-setosa\n",
       "  14        Iris-setosa\n",
       "  15        Iris-setosa\n",
       "  16        Iris-setosa\n",
       "  17        Iris-setosa\n",
       "  18        Iris-setosa\n",
       "  19        Iris-setosa\n",
       "  20        Iris-setosa\n",
       "  21        Iris-setosa\n",
       "  22        Iris-setosa\n",
       "  23        Iris-setosa\n",
       "  24        Iris-setosa\n",
       "  25        Iris-setosa\n",
       "  26        Iris-setosa\n",
       "  27        Iris-setosa\n",
       "  28        Iris-setosa\n",
       "  29        Iris-setosa\n",
       "              ...      \n",
       "  120    Iris-virginica\n",
       "  121    Iris-virginica\n",
       "  122    Iris-virginica\n",
       "  123    Iris-virginica\n",
       "  124    Iris-virginica\n",
       "  125    Iris-virginica\n",
       "  126    Iris-virginica\n",
       "  127    Iris-virginica\n",
       "  128    Iris-virginica\n",
       "  129    Iris-virginica\n",
       "  130    Iris-virginica\n",
       "  131    Iris-virginica\n",
       "  132    Iris-virginica\n",
       "  133    Iris-virginica\n",
       "  134    Iris-virginica\n",
       "  135    Iris-virginica\n",
       "  136    Iris-virginica\n",
       "  137    Iris-virginica\n",
       "  138    Iris-virginica\n",
       "  139    Iris-virginica\n",
       "  140    Iris-virginica\n",
       "  141    Iris-virginica\n",
       "  142    Iris-virginica\n",
       "  143    Iris-virginica\n",
       "  144    Iris-virginica\n",
       "  145    Iris-virginica\n",
       "  146    Iris-virginica\n",
       "  147    Iris-virginica\n",
       "  148    Iris-virginica\n",
       "  149    Iris-virginica\n",
       "  Name: Species, Length: 150, dtype: object)]"
      ]
     },
     "execution_count": 42,
     "metadata": {},
     "output_type": "execute_result"
    }
   ],
   "source": [
    "list(iris_data.items())"
   ]
  },
  {
   "cell_type": "code",
   "execution_count": 32,
   "metadata": {
    "scrolled": true
   },
   "outputs": [
    {
     "data": {
      "text/plain": [
       "Id                 int64\n",
       "SepalLengthCm    float64\n",
       "SepalWidthCm     float64\n",
       "PetalLengthCm    float64\n",
       "PetalWidthCm     float64\n",
       "Species           object\n",
       "dtype: object"
      ]
     },
     "execution_count": 32,
     "metadata": {},
     "output_type": "execute_result"
    }
   ],
   "source": [
    "iris_data.dtypes"
   ]
  },
  {
   "cell_type": "markdown",
   "metadata": {},
   "source": [
    "`pandas.read_sql_query` takes a `SQL` query and a connection object and imports the data into a `DataFrame`, also keeping the same data types of the database columns. `pandas` provides a lot of the same functionality of `SQL` with a more user-friendly interface.\n",
    "\n",
    "However, `sqlite3` is extremely useful for downselecting data **before** importing them in `pandas`.\n",
    "\n",
    "For example you might have 1 TB of data in a table stored in a database on a server machine. You are interested in working on a subset of the data based on some criterion, unfortunately it would be impossible to first load data into `pandas` and then filter them, therefore we should tell the database to perform the filtering and just load into `pandas` the downsized dataset."
   ]
  },
  {
   "cell_type": "code",
   "execution_count": 33,
   "metadata": {
    "collapsed": true
   },
   "outputs": [],
   "source": [
    "iris_setosa_data = pd.read_sql_query(\"SELECT * FROM Iris WHERE Species == 'Iris-setosa'\", conn)"
   ]
  },
  {
   "cell_type": "code",
   "execution_count": 34,
   "metadata": {},
   "outputs": [
    {
     "name": "stdout",
     "output_type": "stream",
     "text": [
      "(50, 6)\n",
      "(150, 6)\n"
     ]
    }
   ],
   "source": [
    "iris_setosa_data\n",
    "print(iris_setosa_data.shape)\n",
    "print(iris_data.shape)\n"
   ]
  },
  {
   "cell_type": "code",
   "execution_count": null,
   "metadata": {
    "collapsed": true
   },
   "outputs": [],
   "source": []
  }
 ],
 "metadata": {
  "anaconda-cloud": {},
  "kernelspec": {
   "display_name": "Python 3",
   "language": "python",
   "name": "python3"
  },
  "language_info": {
   "codemirror_mode": {
    "name": "ipython",
    "version": 3
   },
   "file_extension": ".py",
   "mimetype": "text/x-python",
   "name": "python",
   "nbconvert_exporter": "python",
   "pygments_lexer": "ipython3",
   "version": "3.6.1"
  }
 },
 "nbformat": 4,
 "nbformat_minor": 1
}
